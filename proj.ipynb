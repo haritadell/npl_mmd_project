{
 "cells": [
  {
   "cell_type": "markdown",
   "metadata": {},
   "source": [
    "### Imports packages"
   ]
  },
  {
   "cell_type": "code",
   "execution_count": 3,
   "metadata": {},
   "outputs": [
    {
     "name": "stdout",
     "output_type": "stream",
     "text": [
      "\u001b[31m  ERROR: Command errored out with exit status 1:\r\n",
      "   command: /opt/anaconda3/bin/python -u -c 'import sys, setuptools, tokenize; sys.argv[0] = '\"'\"'/private/var/folders/db/401hxrd10sb322p8704_k79h0000gn/T/pip-install-mc3o1g28/qmcpy/setup.py'\"'\"'; __file__='\"'\"'/private/var/folders/db/401hxrd10sb322p8704_k79h0000gn/T/pip-install-mc3o1g28/qmcpy/setup.py'\"'\"';f=getattr(tokenize, '\"'\"'open'\"'\"', open)(__file__);code=f.read().replace('\"'\"'\\r\\n'\"'\"', '\"'\"'\\n'\"'\"');f.close();exec(compile(code, __file__, '\"'\"'exec'\"'\"'))' bdist_wheel -d /private/var/folders/db/401hxrd10sb322p8704_k79h0000gn/T/pip-wheel-h2uhr21l --python-tag cp37\r\n",
      "       cwd: /private/var/folders/db/401hxrd10sb322p8704_k79h0000gn/T/pip-install-mc3o1g28/qmcpy/\r\n",
      "  Complete output (112 lines):\r\n",
      "  running bdist_wheel\r\n",
      "  running build\r\n",
      "  running build_py\r\n",
      "  creating build\r\n",
      "  creating build/lib.macosx-10.9-x86_64-3.7\r\n",
      "  creating build/lib.macosx-10.9-x86_64-3.7/qmcpy\r\n",
      "  copying qmcpy/__init__.py -> build/lib.macosx-10.9-x86_64-3.7/qmcpy\r\n",
      "  creating build/lib.macosx-10.9-x86_64-3.7/qmcpy/true_measure\r\n",
      "  copying qmcpy/true_measure/_true_measure.py -> build/lib.macosx-10.9-x86_64-3.7/qmcpy/true_measure\r\n",
      "  copying qmcpy/true_measure/kumaraswamy.py -> build/lib.macosx-10.9-x86_64-3.7/qmcpy/true_measure\r\n",
      "  copying qmcpy/true_measure/__init__.py -> build/lib.macosx-10.9-x86_64-3.7/qmcpy/true_measure\r\n",
      "  copying qmcpy/true_measure/johnsons_su.py -> build/lib.macosx-10.9-x86_64-3.7/qmcpy/true_measure\r\n",
      "  copying qmcpy/true_measure/brownian_motion.py -> build/lib.macosx-10.9-x86_64-3.7/qmcpy/true_measure\r\n",
      "  copying qmcpy/true_measure/uniform.py -> build/lib.macosx-10.9-x86_64-3.7/qmcpy/true_measure\r\n",
      "  copying qmcpy/true_measure/bernoulli_cont.py -> build/lib.macosx-10.9-x86_64-3.7/qmcpy/true_measure\r\n",
      "  copying qmcpy/true_measure/lebesgue.py -> build/lib.macosx-10.9-x86_64-3.7/qmcpy/true_measure\r\n",
      "  copying qmcpy/true_measure/gaussian.py -> build/lib.macosx-10.9-x86_64-3.7/qmcpy/true_measure\r\n",
      "  creating build/lib.macosx-10.9-x86_64-3.7/qmcpy/stopping_criterion\r\n",
      "  copying qmcpy/stopping_criterion/cub_mc_ml_cont.py -> build/lib.macosx-10.9-x86_64-3.7/qmcpy/stopping_criterion\r\n",
      "  copying qmcpy/stopping_criterion/cub_qmc_lattice_g.py -> build/lib.macosx-10.9-x86_64-3.7/qmcpy/stopping_criterion\r\n",
      "  copying qmcpy/stopping_criterion/cub_qmc_bayes_lattice_g.py -> build/lib.macosx-10.9-x86_64-3.7/qmcpy/stopping_criterion\r\n",
      "  copying qmcpy/stopping_criterion/cub_mc_ml.py -> build/lib.macosx-10.9-x86_64-3.7/qmcpy/stopping_criterion\r\n",
      "  copying qmcpy/stopping_criterion/__init__.py -> build/lib.macosx-10.9-x86_64-3.7/qmcpy/stopping_criterion\r\n",
      "  copying qmcpy/stopping_criterion/cub_mc_g.py -> build/lib.macosx-10.9-x86_64-3.7/qmcpy/stopping_criterion\r\n",
      "  copying qmcpy/stopping_criterion/cub_qmc_ml_cont.py -> build/lib.macosx-10.9-x86_64-3.7/qmcpy/stopping_criterion\r\n",
      "  copying qmcpy/stopping_criterion/_stopping_criterion.py -> build/lib.macosx-10.9-x86_64-3.7/qmcpy/stopping_criterion\r\n",
      "  copying qmcpy/stopping_criterion/cub_qmc_bayes_net_g.py -> build/lib.macosx-10.9-x86_64-3.7/qmcpy/stopping_criterion\r\n",
      "  copying qmcpy/stopping_criterion/cub_qmc_sobol_g.py -> build/lib.macosx-10.9-x86_64-3.7/qmcpy/stopping_criterion\r\n",
      "  copying qmcpy/stopping_criterion/cub_mc_clt.py -> build/lib.macosx-10.9-x86_64-3.7/qmcpy/stopping_criterion\r\n",
      "  copying qmcpy/stopping_criterion/cub_qmc_ml.py -> build/lib.macosx-10.9-x86_64-3.7/qmcpy/stopping_criterion\r\n",
      "  copying qmcpy/stopping_criterion/cub_qmc_clt.py -> build/lib.macosx-10.9-x86_64-3.7/qmcpy/stopping_criterion\r\n",
      "  creating build/lib.macosx-10.9-x86_64-3.7/qmcpy/discrete_distribution\r\n",
      "  copying qmcpy/discrete_distribution/_discrete_distribution.py -> build/lib.macosx-10.9-x86_64-3.7/qmcpy/discrete_distribution\r\n",
      "  copying qmcpy/discrete_distribution/iid_std_uniform.py -> build/lib.macosx-10.9-x86_64-3.7/qmcpy/discrete_distribution\r\n",
      "  copying qmcpy/discrete_distribution/__init__.py -> build/lib.macosx-10.9-x86_64-3.7/qmcpy/discrete_distribution\r\n",
      "  copying qmcpy/discrete_distribution/iid_std_gaussian.py -> build/lib.macosx-10.9-x86_64-3.7/qmcpy/discrete_distribution\r\n",
      "  creating build/lib.macosx-10.9-x86_64-3.7/qmcpy/accumulate_data\r\n",
      "  copying qmcpy/accumulate_data/ld_transform_data.py -> build/lib.macosx-10.9-x86_64-3.7/qmcpy/accumulate_data\r\n",
      "  copying qmcpy/accumulate_data/mean_var_data.py -> build/lib.macosx-10.9-x86_64-3.7/qmcpy/accumulate_data\r\n",
      "  copying qmcpy/accumulate_data/mlmc_data.py -> build/lib.macosx-10.9-x86_64-3.7/qmcpy/accumulate_data\r\n",
      "  copying qmcpy/accumulate_data/mlqmc_data.py -> build/lib.macosx-10.9-x86_64-3.7/qmcpy/accumulate_data\r\n",
      "  copying qmcpy/accumulate_data/__init__.py -> build/lib.macosx-10.9-x86_64-3.7/qmcpy/accumulate_data\r\n",
      "  copying qmcpy/accumulate_data/ld_transform_bayes_data.py -> build/lib.macosx-10.9-x86_64-3.7/qmcpy/accumulate_data\r\n",
      "  copying qmcpy/accumulate_data/_accumulate_data.py -> build/lib.macosx-10.9-x86_64-3.7/qmcpy/accumulate_data\r\n",
      "  copying qmcpy/accumulate_data/mean_var_data_rep.py -> build/lib.macosx-10.9-x86_64-3.7/qmcpy/accumulate_data\r\n",
      "  creating build/lib.macosx-10.9-x86_64-3.7/qmcpy/util\r\n",
      "  copying qmcpy/util/latnetbuilder_linker.py -> build/lib.macosx-10.9-x86_64-3.7/qmcpy/util\r\n",
      "  copying qmcpy/util/__init__.py -> build/lib.macosx-10.9-x86_64-3.7/qmcpy/util\r\n",
      "  copying qmcpy/util/math_functions.py -> build/lib.macosx-10.9-x86_64-3.7/qmcpy/util\r\n",
      "  copying qmcpy/util/exceptions_warnings.py -> build/lib.macosx-10.9-x86_64-3.7/qmcpy/util\r\n",
      "  copying qmcpy/util/abstraction_functions.py -> build/lib.macosx-10.9-x86_64-3.7/qmcpy/util\r\n",
      "  creating build/lib.macosx-10.9-x86_64-3.7/qmcpy/integrand\r\n",
      "  copying qmcpy/integrand/linear0.py -> build/lib.macosx-10.9-x86_64-3.7/qmcpy/integrand\r\n",
      "  copying qmcpy/integrand/european_option.py -> build/lib.macosx-10.9-x86_64-3.7/qmcpy/integrand\r\n",
      "  copying qmcpy/integrand/keister.py -> build/lib.macosx-10.9-x86_64-3.7/qmcpy/integrand\r\n",
      "  copying qmcpy/integrand/__init__.py -> build/lib.macosx-10.9-x86_64-3.7/qmcpy/integrand\r\n",
      "  copying qmcpy/integrand/ml_call_options.py -> build/lib.macosx-10.9-x86_64-3.7/qmcpy/integrand\r\n",
      "  copying qmcpy/integrand/asian_option.py -> build/lib.macosx-10.9-x86_64-3.7/qmcpy/integrand\r\n",
      "  copying qmcpy/integrand/_integrand.py -> build/lib.macosx-10.9-x86_64-3.7/qmcpy/integrand\r\n",
      "  copying qmcpy/integrand/custom_fun.py -> build/lib.macosx-10.9-x86_64-3.7/qmcpy/integrand\r\n",
      "  creating build/lib.macosx-10.9-x86_64-3.7/qmcpy/discrete_distribution/halton\r\n",
      "  copying qmcpy/discrete_distribution/halton/__init__.py -> build/lib.macosx-10.9-x86_64-3.7/qmcpy/discrete_distribution/halton\r\n",
      "  copying qmcpy/discrete_distribution/halton/halton.py -> build/lib.macosx-10.9-x86_64-3.7/qmcpy/discrete_distribution/halton\r\n",
      "  creating build/lib.macosx-10.9-x86_64-3.7/qmcpy/discrete_distribution/korobov\r\n",
      "  copying qmcpy/discrete_distribution/korobov/__init__.py -> build/lib.macosx-10.9-x86_64-3.7/qmcpy/discrete_distribution/korobov\r\n",
      "  copying qmcpy/discrete_distribution/korobov/korobov.py -> build/lib.macosx-10.9-x86_64-3.7/qmcpy/discrete_distribution/korobov\r\n",
      "  creating build/lib.macosx-10.9-x86_64-3.7/qmcpy/discrete_distribution/lattice\r\n",
      "  copying qmcpy/discrete_distribution/lattice/__init__.py -> build/lib.macosx-10.9-x86_64-3.7/qmcpy/discrete_distribution/lattice\r\n",
      "  copying qmcpy/discrete_distribution/lattice/lattice.py -> build/lib.macosx-10.9-x86_64-3.7/qmcpy/discrete_distribution/lattice\r\n",
      "  creating build/lib.macosx-10.9-x86_64-3.7/qmcpy/discrete_distribution/c_lib\r\n",
      "  copying qmcpy/discrete_distribution/c_lib/__init__.py -> build/lib.macosx-10.9-x86_64-3.7/qmcpy/discrete_distribution/c_lib\r\n",
      "  copying qmcpy/discrete_distribution/c_lib/load_c_lib.py -> build/lib.macosx-10.9-x86_64-3.7/qmcpy/discrete_distribution/c_lib\r\n",
      "  creating build/lib.macosx-10.9-x86_64-3.7/qmcpy/discrete_distribution/sobol\r\n",
      "  copying qmcpy/discrete_distribution/sobol/sobol.py -> build/lib.macosx-10.9-x86_64-3.7/qmcpy/discrete_distribution/sobol\r\n",
      "  copying qmcpy/discrete_distribution/sobol/__init__.py -> build/lib.macosx-10.9-x86_64-3.7/qmcpy/discrete_distribution/sobol\r\n",
      "  running egg_info\r\n",
      "  writing qmcpy.egg-info/PKG-INFO\r\n",
      "  writing dependency_links to qmcpy.egg-info/dependency_links.txt\r\n",
      "  writing requirements to qmcpy.egg-info/requires.txt\r\n",
      "  writing top-level names to qmcpy.egg-info/top_level.txt\r\n",
      "  reading manifest file 'qmcpy.egg-info/SOURCES.txt'\r\n",
      "  reading manifest template 'MANIFEST.in'\r\n",
      "  writing manifest file 'qmcpy.egg-info/SOURCES.txt'\r\n",
      "  creating build/lib.macosx-10.9-x86_64-3.7/qmcpy/discrete_distribution/lattice/generating_vectors\r\n",
      "  copying qmcpy/discrete_distribution/lattice/generating_vectors/lattice_vec.3600.20.npy -> build/lib.macosx-10.9-x86_64-3.7/qmcpy/discrete_distribution/lattice/generating_vectors\r\n",
      "  creating build/lib.macosx-10.9-x86_64-3.7/qmcpy/discrete_distribution/lattice/generating_vectors/lnb_ordinary_lattice\r\n",
      "  copying qmcpy/discrete_distribution/lattice/generating_vectors/lnb_ordinary_lattice/qmcpy_gv.750.24.npy -> build/lib.macosx-10.9-x86_64-3.7/qmcpy/discrete_distribution/lattice/generating_vectors/lnb_ordinary_lattice\r\n",
      "  copying qmcpy/discrete_distribution/c_lib/MRG63k3a.c -> build/lib.macosx-10.9-x86_64-3.7/qmcpy/discrete_distribution/c_lib\r\n",
      "  copying qmcpy/discrete_distribution/c_lib/MRG63k3a.h -> build/lib.macosx-10.9-x86_64-3.7/qmcpy/discrete_distribution/c_lib\r\n",
      "  copying qmcpy/discrete_distribution/c_lib/export_ctypes.h -> build/lib.macosx-10.9-x86_64-3.7/qmcpy/discrete_distribution/c_lib\r\n",
      "  copying qmcpy/discrete_distribution/c_lib/fwht.c -> build/lib.macosx-10.9-x86_64-3.7/qmcpy/discrete_distribution/c_lib\r\n",
      "  copying qmcpy/discrete_distribution/c_lib/halton_owen.c -> build/lib.macosx-10.9-x86_64-3.7/qmcpy/discrete_distribution/c_lib\r\n",
      "  copying qmcpy/discrete_distribution/c_lib/halton_qrng.c -> build/lib.macosx-10.9-x86_64-3.7/qmcpy/discrete_distribution/c_lib\r\n",
      "  copying qmcpy/discrete_distribution/c_lib/korobov_qrng.c -> build/lib.macosx-10.9-x86_64-3.7/qmcpy/discrete_distribution/c_lib\r\n",
      "  copying qmcpy/discrete_distribution/c_lib/sobol.c -> build/lib.macosx-10.9-x86_64-3.7/qmcpy/discrete_distribution/c_lib\r\n",
      "  creating build/lib.macosx-10.9-x86_64-3.7/qmcpy/discrete_distribution/sobol/generating_matricies\r\n",
      "  copying qmcpy/discrete_distribution/sobol/generating_matricies/sobol_mat.21201.32.lsb.npy -> build/lib.macosx-10.9-x86_64-3.7/qmcpy/discrete_distribution/sobol/generating_matricies\r\n",
      "  copying qmcpy/discrete_distribution/sobol/generating_matricies/sobol_mat.21201.32.msb.npy -> build/lib.macosx-10.9-x86_64-3.7/qmcpy/discrete_distribution/sobol/generating_matricies\r\n",
      "  copying qmcpy/discrete_distribution/sobol/generating_matricies/sobol_mat.51.30.msb.npy -> build/lib.macosx-10.9-x86_64-3.7/qmcpy/discrete_distribution/sobol/generating_matricies\r\n",
      "  running build_ext\r\n",
      "  building 'qmcpy.discrete_distribution.c_lib.c_lib' extension\r\n",
      "  creating build/temp.macosx-10.9-x86_64-3.7\r\n",
      "  creating build/temp.macosx-10.9-x86_64-3.7/qmcpy\r\n",
      "  creating build/temp.macosx-10.9-x86_64-3.7/qmcpy/discrete_distribution\r\n",
      "  creating build/temp.macosx-10.9-x86_64-3.7/qmcpy/discrete_distribution/c_lib\r\n",
      "  x86_64-apple-darwin13.4.0-clang -fno-strict-aliasing -Wsign-compare -Wunreachable-code -DNDEBUG -fwrapv -O3 -Wall -Wstrict-prototypes -march=core2 -mtune=haswell -mssse3 -ftree-vectorize -fPIC -fPIE -fstack-protector-strong -O3 -pipe -fdebug-prefix-map=${SRC_DIR}=/usr/local/src/conda/${PKG_NAME}-${PKG_VERSION} -fdebug-prefix-map=/opt/anaconda3=/usr/local/src/conda-prefix -flto -Wl,-export_dynamic -march=core2 -mtune=haswell -mssse3 -ftree-vectorize -fPIC -fPIE -fstack-protector-strong -O3 -march=core2 -mtune=haswell -mssse3 -ftree-vectorize -fPIC -fPIE -fstack-protector-strong -O2 -pipe -D_FORTIFY_SOURCE=2 -mmacosx-version-min=10.9 -I/opt/anaconda3/include/python3.7m -c qmcpy/discrete_distribution/c_lib/halton_owen.c -o build/temp.macosx-10.9-x86_64-3.7/qmcpy/discrete_distribution/c_lib/halton_owen.o\r\n",
      "  clang-4.0: warning: -Wl,-export_dynamic: 'linker' input unused [-Wunused-command-line-argument]\r\n",
      "  qmcpy/discrete_distribution/c_lib/halton_owen.c:8:10: fatal error: 'string.h' file not found\r\n",
      "  #include <string.h>\r\n",
      "           ^~~~~~~~~~\r\n",
      "  1 error generated.\r\n",
      "  error: command 'x86_64-apple-darwin13.4.0-clang' failed with exit status 1\r\n",
      "  ----------------------------------------\u001b[0m\r\n",
      "\u001b[31m  ERROR: Failed building wheel for qmcpy\u001b[0m\r\n"
     ]
    },
    {
     "name": "stdout",
     "output_type": "stream",
     "text": [
      "\u001b[31m  ERROR: Command errored out with exit status 1:\n",
      "   command: /opt/anaconda3/bin/python -u -c 'import sys, setuptools, tokenize; sys.argv[0] = '\"'\"'/private/var/folders/db/401hxrd10sb322p8704_k79h0000gn/T/pip-install-mc3o1g28/qmcpy/setup.py'\"'\"'; __file__='\"'\"'/private/var/folders/db/401hxrd10sb322p8704_k79h0000gn/T/pip-install-mc3o1g28/qmcpy/setup.py'\"'\"';f=getattr(tokenize, '\"'\"'open'\"'\"', open)(__file__);code=f.read().replace('\"'\"'\\r\\n'\"'\"', '\"'\"'\\n'\"'\"');f.close();exec(compile(code, __file__, '\"'\"'exec'\"'\"'))' clean --all\n",
      "       cwd: /private/var/folders/db/401hxrd10sb322p8704_k79h0000gn/T/pip-install-mc3o1g28/qmcpy\n",
      "  Complete output (6 lines):\n",
      "  usage: setup.py [global_opts] cmd1 [cmd1_opts] [cmd2 [cmd2_opts] ...]\n",
      "     or: setup.py --help [cmd1 cmd2 ...]\n",
      "     or: setup.py --help-commands\n",
      "     or: setup.py cmd --help\n",
      "  \n",
      "  error: option --all not recognized\n",
      "  ----------------------------------------\u001b[0m\n",
      "\u001b[31m  ERROR: Failed cleaning build dir for qmcpy\u001b[0m\n",
      "\u001b[31m    ERROR: Command errored out with exit status 1:\n",
      "     command: /opt/anaconda3/bin/python -u -c 'import sys, setuptools, tokenize; sys.argv[0] = '\"'\"'/private/var/folders/db/401hxrd10sb322p8704_k79h0000gn/T/pip-install-mc3o1g28/qmcpy/setup.py'\"'\"'; __file__='\"'\"'/private/var/folders/db/401hxrd10sb322p8704_k79h0000gn/T/pip-install-mc3o1g28/qmcpy/setup.py'\"'\"';f=getattr(tokenize, '\"'\"'open'\"'\"', open)(__file__);code=f.read().replace('\"'\"'\\r\\n'\"'\"', '\"'\"'\\n'\"'\"');f.close();exec(compile(code, __file__, '\"'\"'exec'\"'\"'))' install --record /private/var/folders/db/401hxrd10sb322p8704_k79h0000gn/T/pip-record-o_opyt5y/install-record.txt --single-version-externally-managed --compile\n",
      "         cwd: /private/var/folders/db/401hxrd10sb322p8704_k79h0000gn/T/pip-install-mc3o1g28/qmcpy/\n",
      "    Complete output (36 lines):\n",
      "    running install\n",
      "    Obtaining file:///private/var/folders/db/401hxrd10sb322p8704_k79h0000gn/T/pip-install-mc3o1g28/qmcpy\n",
      "    Requirement already satisfied: scipy>=1.2.0 in /opt/anaconda3/lib/python3.7/site-packages (from qmcpy==1.0) (1.3.1)\n",
      "    Requirement already satisfied: numpy>=1.18.5 in /opt/anaconda3/lib/python3.7/site-packages (from qmcpy==1.0) (1.20.1)\n",
      "    Installing collected packages: qmcpy\n",
      "      Running setup.py develop for qmcpy\n",
      "        ERROR: Command errored out with exit status 1:\n",
      "         command: /opt/anaconda3/bin/python -c 'import sys, setuptools, tokenize; sys.argv[0] = '\"'\"'/private/var/folders/db/401hxrd10sb322p8704_k79h0000gn/T/pip-install-mc3o1g28/qmcpy/setup.py'\"'\"'; __file__='\"'\"'/private/var/folders/db/401hxrd10sb322p8704_k79h0000gn/T/pip-install-mc3o1g28/qmcpy/setup.py'\"'\"';f=getattr(tokenize, '\"'\"'open'\"'\"', open)(__file__);code=f.read().replace('\"'\"'\\r\\n'\"'\"', '\"'\"'\\n'\"'\"');f.close();exec(compile(code, __file__, '\"'\"'exec'\"'\"'))' develop --no-deps\n",
      "             cwd: /private/var/folders/db/401hxrd10sb322p8704_k79h0000gn/T/pip-install-mc3o1g28/qmcpy/\n",
      "        Complete output (18 lines):\n",
      "        running develop\n",
      "        running egg_info\n",
      "        writing qmcpy.egg-info/PKG-INFO\n",
      "        writing dependency_links to qmcpy.egg-info/dependency_links.txt\n",
      "        writing requirements to qmcpy.egg-info/requires.txt\n",
      "        writing top-level names to qmcpy.egg-info/top_level.txt\n",
      "        reading manifest file 'qmcpy.egg-info/SOURCES.txt'\n",
      "        reading manifest template 'MANIFEST.in'\n",
      "        writing manifest file 'qmcpy.egg-info/SOURCES.txt'\n",
      "        running build_ext\n",
      "        building 'qmcpy.discrete_distribution.c_lib.c_lib' extension\n",
      "        x86_64-apple-darwin13.4.0-clang -fno-strict-aliasing -Wsign-compare -Wunreachable-code -DNDEBUG -fwrapv -O3 -Wall -Wstrict-prototypes -march=core2 -mtune=haswell -mssse3 -ftree-vectorize -fPIC -fPIE -fstack-protector-strong -O3 -pipe -fdebug-prefix-map=${SRC_DIR}=/usr/local/src/conda/${PKG_NAME}-${PKG_VERSION} -fdebug-prefix-map=/opt/anaconda3=/usr/local/src/conda-prefix -flto -Wl,-export_dynamic -march=core2 -mtune=haswell -mssse3 -ftree-vectorize -fPIC -fPIE -fstack-protector-strong -O3 -march=core2 -mtune=haswell -mssse3 -ftree-vectorize -fPIC -fPIE -fstack-protector-strong -O2 -pipe -D_FORTIFY_SOURCE=2 -mmacosx-version-min=10.9 -I/opt/anaconda3/include/python3.7m -c qmcpy/discrete_distribution/c_lib/halton_owen.c -o build/temp.macosx-10.9-x86_64-3.7/qmcpy/discrete_distribution/c_lib/halton_owen.o\n",
      "        clang-4.0: warning: -Wl,-export_dynamic: 'linker' input unused [-Wunused-command-line-argument]\n",
      "        qmcpy/discrete_distribution/c_lib/halton_owen.c:8:10: fatal error: 'string.h' file not found\n",
      "        #include <string.h>\n",
      "                 ^~~~~~~~~~\n",
      "        1 error generated.\n",
      "        error: command 'x86_64-apple-darwin13.4.0-clang' failed with exit status 1\n",
      "        ----------------------------------------\n",
      "    ERROR: Command errored out with exit status 1: /opt/anaconda3/bin/python -c 'import sys, setuptools, tokenize; sys.argv[0] = '\"'\"'/private/var/folders/db/401hxrd10sb322p8704_k79h0000gn/T/pip-install-mc3o1g28/qmcpy/setup.py'\"'\"'; __file__='\"'\"'/private/var/folders/db/401hxrd10sb322p8704_k79h0000gn/T/pip-install-mc3o1g28/qmcpy/setup.py'\"'\"';f=getattr(tokenize, '\"'\"'open'\"'\"', open)(__file__);code=f.read().replace('\"'\"'\\r\\n'\"'\"', '\"'\"'\\n'\"'\"');f.close();exec(compile(code, __file__, '\"'\"'exec'\"'\"'))' develop --no-deps Check the logs for full command output.\n",
      "    shell-init: error retrieving current directory: getcwd: cannot access parent directories: No such file or directory\n",
      "    make: getcwd: No such file or directory\n",
      "    make: *** No rule to make target '_doc'.  Stop.\n",
      "    running build\n",
      "    running build_py\n",
      "    error: package directory 'qmcpy' does not exist\n",
      "    ----------------------------------------\u001b[0m\n",
      "\u001b[31mERROR: Command errored out with exit status 1: /opt/anaconda3/bin/python -u -c 'import sys, setuptools, tokenize; sys.argv[0] = '\"'\"'/private/var/folders/db/401hxrd10sb322p8704_k79h0000gn/T/pip-install-mc3o1g28/qmcpy/setup.py'\"'\"'; __file__='\"'\"'/private/var/folders/db/401hxrd10sb322p8704_k79h0000gn/T/pip-install-mc3o1g28/qmcpy/setup.py'\"'\"';f=getattr(tokenize, '\"'\"'open'\"'\"', open)(__file__);code=f.read().replace('\"'\"'\\r\\n'\"'\"', '\"'\"'\\n'\"'\"');f.close();exec(compile(code, __file__, '\"'\"'exec'\"'\"'))' install --record /private/var/folders/db/401hxrd10sb322p8704_k79h0000gn/T/pip-record-o_opyt5y/install-record.txt --single-version-externally-managed --compile Check the logs for full command output.\u001b[0m\n"
     ]
    }
   ],
   "source": [
    "! pip install qmcpy --quiet\n",
    "! pip install pytictoc --quiet\n",
    "! pip install POT --quiet"
   ]
  },
  {
   "cell_type": "code",
   "execution_count": 1,
   "metadata": {},
   "outputs": [
    {
     "ename": "ModuleNotFoundError",
     "evalue": "No module named 'qmcpy'",
     "output_type": "error",
     "traceback": [
      "\u001b[0;31m---------------------------------------------------------------------------\u001b[0m",
      "\u001b[0;31mModuleNotFoundError\u001b[0m                       Traceback (most recent call last)",
      "\u001b[0;32m<ipython-input-1-38a4d18f8205>\u001b[0m in \u001b[0;36m<module>\u001b[0;34m\u001b[0m\n\u001b[1;32m      6\u001b[0m \u001b[0;32mfrom\u001b[0m \u001b[0mtqdm\u001b[0m \u001b[0;32mimport\u001b[0m \u001b[0mtqdm_notebook\u001b[0m \u001b[0;32mas\u001b[0m \u001b[0mtqdm\u001b[0m\u001b[0;34m\u001b[0m\u001b[0;34m\u001b[0m\u001b[0m\n\u001b[1;32m      7\u001b[0m \u001b[0;32mimport\u001b[0m \u001b[0mscipy\u001b[0m\u001b[0;34m.\u001b[0m\u001b[0mspatial\u001b[0m\u001b[0;34m.\u001b[0m\u001b[0mdistance\u001b[0m \u001b[0;32mas\u001b[0m \u001b[0mdistance\u001b[0m\u001b[0;34m\u001b[0m\u001b[0;34m\u001b[0m\u001b[0m\n\u001b[0;32m----> 8\u001b[0;31m \u001b[0;32mimport\u001b[0m \u001b[0mqmcpy\u001b[0m \u001b[0;31m# QMC points\u001b[0m\u001b[0;34m\u001b[0m\u001b[0;34m\u001b[0m\u001b[0m\n\u001b[0m\u001b[1;32m      9\u001b[0m \u001b[0;32mfrom\u001b[0m \u001b[0mpytictoc\u001b[0m \u001b[0;32mimport\u001b[0m \u001b[0mTicToc\u001b[0m \u001b[0;31m# timer\u001b[0m\u001b[0;34m\u001b[0m\u001b[0;34m\u001b[0m\u001b[0m\n\u001b[1;32m     10\u001b[0m \u001b[0;32mimport\u001b[0m \u001b[0mot\u001b[0m \u001b[0;31m# Wasserstein distance and Sinkhorn divergence\u001b[0m\u001b[0;34m\u001b[0m\u001b[0;34m\u001b[0m\u001b[0m\n",
      "\u001b[0;31mModuleNotFoundError\u001b[0m: No module named 'qmcpy'"
     ]
    }
   ],
   "source": [
    "import numpy as np\n",
    "import time\n",
    "import matplotlib.pyplot as plt\n",
    "from scipy.stats import dirichlet\n",
    "import statsmodels.api as sm\n",
    "from tqdm import tqdm_notebook as tqdm\n",
    "import scipy.spatial.distance as distance\n",
    "import qmcpy # QMC points\n",
    "from pytictoc import TicToc # timer\n",
    "import ot # Wasserstein distance and Sinkhorn divergence\n",
    "from joblib import Parallel, delayed"
   ]
  },
  {
   "cell_type": "code",
   "execution_count": 4,
   "metadata": {},
   "outputs": [],
   "source": [
    "from joblib import Parallel, delayed\n",
    "from math import modf"
   ]
  },
  {
   "cell_type": "code",
   "execution_count": 5,
   "metadata": {},
   "outputs": [],
   "source": [
    " r = Parallel(n_jobs=1)(delayed(modf)(i/2.) for i in range(10))"
   ]
  },
  {
   "cell_type": "code",
   "execution_count": 6,
   "metadata": {},
   "outputs": [
    {
     "name": "stderr",
     "output_type": "stream",
     "text": [
      "[Parallel(n_jobs=2)]: Using backend LokyBackend with 2 concurrent workers.\n",
      "[Parallel(n_jobs=2)]: Done   1 tasks      | elapsed:    0.4s\n",
      "[Parallel(n_jobs=2)]: Done   4 tasks      | elapsed:    0.7s\n",
      "[Parallel(n_jobs=2)]: Done  10 out of  10 | elapsed:    1.3s finished\n"
     ]
    }
   ],
   "source": [
    "from time import sleep\n",
    "from joblib import Parallel, delayed\n",
    "r = Parallel(n_jobs=2, verbose=10)(delayed(sleep)(.2) for _ in range(10))"
   ]
  },
  {
   "cell_type": "code",
   "execution_count": null,
   "metadata": {},
   "outputs": [],
   "source": []
  },
  {
   "cell_type": "markdown",
   "metadata": {},
   "source": [
    "### Data simulation: $(X_1,\\dots,X_n)$."
   ]
  },
  {
   "cell_type": "code",
   "execution_count": 7,
   "metadata": {},
   "outputs": [],
   "source": [
    "# Sample a dataset of size n from univariate Gaussians with a portion of outliers\n",
    "def datagen(n,theta,contamination = []):\n",
    "    datag = np.random.normal(loc=theta,scale=1,size=n-np.size(contamination))\n",
    "    datag = np.concatenate((datag,contamination),axis=0)\n",
    "    return(datag)"
   ]
  },
  {
   "cell_type": "markdown",
   "metadata": {},
   "source": [
    "### Gaussian Kernel\n",
    "Gaussian kernel $k(x,y)$"
   ]
  },
  {
   "cell_type": "code",
   "execution_count": 8,
   "metadata": {},
   "outputs": [],
   "source": [
    "# compatible with old code\n",
    "def k(x,y,l, sparse=False): \n",
    "\n",
    "    if sparse == True:\n",
    "        x = x.astype('float32')\n",
    "        y = y.astype('float32')\n",
    "        \n",
    "    x = np.matrix(x).transpose()\n",
    "    y = np.matrix(y).transpose()\n",
    "    # kernel\n",
    "    kernel = np.exp(-l*distance.cdist(x,y,'sqeuclidean'))\n",
    "    \n",
    "    return kernel"
   ]
  },
  {
   "cell_type": "markdown",
   "metadata": {
    "colab_type": "text",
    "id": "CiKVEKGNNRS4"
   },
   "source": [
    "Gaussian kernel $k(x,y)$, its gradient w.r.t. first element $\\nabla_1k(x,y)$ and its second derivative w.r.t. to the second and first argument $\\nabla_2\\nabla_1k(x,y)$:"
   ]
  },
  {
   "cell_type": "code",
   "execution_count": 9,
   "metadata": {
    "colab": {},
    "colab_type": "code",
    "id": "1rXFG-97MI0i"
   },
   "outputs": [],
   "source": [
    "def k(x,y,l, sparse=False): \n",
    "\n",
    "    if sparse == True:\n",
    "        x = x.astype('float32')\n",
    "        y = y.astype('float32')\n",
    "    \n",
    "    # dimensions\n",
    "    d = x.shape[1]\n",
    "    dims = np.arange(d)\n",
    "    \n",
    "    # kernel\n",
    "    kernel = np.exp(-(1/(2*l**2))*distance.cdist(x,y,'sqeuclidean'))\n",
    "    \n",
    "    # first derivative\n",
    "    grad_1 = -1*np.squeeze(np.subtract.outer(x,y)[:,[dims],:,[dims]], axis=0)*(1/l**2)*np.expand_dims(kernel, axis=0)\n",
    "    \n",
    "    #second derivative\n",
    "    grad_21 = (1/l**2)*(np.expand_dims(np.expand_dims(np.eye(d), axis = 2), axis = 3)-np.einsum('ijk,ljk->iljk',np.squeeze(np.subtract.outer(x,y)[:,[dims],:,[dims]], axis=0),np.squeeze(np.subtract.outer(x,y)[:,[dims],:,[dims]], axis=0))*(1/l**2))*kernel\n",
    "    \n",
    "    return list([kernel, grad_1, grad_21])"
   ]
  },
  {
   "cell_type": "markdown",
   "metadata": {},
   "source": [
    "### $MMD^2$ approximation"
   ]
  },
  {
   "cell_type": "code",
   "execution_count": 10,
   "metadata": {},
   "outputs": [],
   "source": [
    "def MMD_approx(n,m,kxx,kxy,kyy):\n",
    "    \"\"\"y_{i=1}^n iid from P_\\theta, x_{i=1}^m iid from Q\n",
    "    kxx is nxn, kyy is mxm and kxy is nxm\"\"\"\n",
    "    \n",
    "    # first sum\n",
    "    np.fill_diagonal(kyy, np.repeat(0,n)) # exclude k(y_i, y_i) (diagonal terms)\n",
    "    sum1 = np.sum(kyy)\n",
    "    \n",
    "    # second sum\n",
    "    sum2 = np.sum(kxy)\n",
    "    \n",
    "    # third sum\n",
    "    np.fill_diagonal(kxx, np.repeat(0,m))\n",
    "    sum3 = np.sum(kxx)\n",
    "    \n",
    "    return (1/(n*(n-1)))*sum1-(2/(m*n))*sum2+(1/(m*(m-1)))*sum3"
   ]
  },
  {
   "cell_type": "markdown",
   "metadata": {},
   "source": [
    "### MMD$^2$ gradient approximation between $P_{\\theta}$ and $\\sum_{i=1}^n w_i \\delta_{x_i}$:"
   ]
  },
  {
   "cell_type": "code",
   "execution_count": 11,
   "metadata": {},
   "outputs": [],
   "source": [
    "def grad_MMD(n,m,weights,kyy,kxy,theta,sample):   \n",
    "    # y sample from p_theta, x data\n",
    "    # gradient of log(p_theta(X)) w.r.t. theta\n",
    "    grad_ = theta*np.ones(n) - sample # or m? check\n",
    "    # weights\n",
    "    weights_mat = np.tile(weights, (n,1))\n",
    "    # first sum\n",
    "    np.fill_diagonal(kyy, np.repeat(0,n))\n",
    "  \n",
    "    # second (weighted) sum \n",
    "    w_ = np.multiply(weights_mat,kxy)\n",
    "    \n",
    "    return -2*np.mean(grad_*(kyy)/(n-1)- 2*sum(grad_*w_))"
   ]
  },
  {
   "cell_type": "markdown",
   "metadata": {},
   "source": [
    "### Computation of the Maximum Likelihood Estimator (the mean) $\\frac{1}{n}\\sum_{i=1}^n X_i$ and the geometric median"
   ]
  },
  {
   "cell_type": "code",
   "execution_count": 12,
   "metadata": {},
   "outputs": [],
   "source": [
    "def MLE(data):\n",
    "    return(np.mean(data))"
   ]
  },
  {
   "cell_type": "code",
   "execution_count": 13,
   "metadata": {},
   "outputs": [],
   "source": [
    "def GEO_MED(data):\n",
    "    return(np.median(data))"
   ]
  },
  {
   "cell_type": "markdown",
   "metadata": {},
   "source": [
    "### NPL"
   ]
  },
  {
   "cell_type": "code",
   "execution_count": 14,
   "metadata": {},
   "outputs": [],
   "source": [
    "class NPL():\n",
    "    \"\"\"This class contains everything that is needed for inference with a \n",
    "    given model. \n",
    "    \"\"\"\n",
    "    \n",
    "    def __init__(self, B):\n",
    "        self.B = B\n",
    "        \n",
    "    \n",
    "    def draw_samples(self, X, seed = 0, display_opt = True, gamma=1):\n",
    "        \"\"\"Draws B samples from the nonparametric posterior specified via\n",
    "        the likelihood and the data X\"\"\"\n",
    "        \n",
    "        print(\"Drawing samples...\")    \n",
    "        n = X.shape[0]\n",
    "        self.kxx = k(X,X,gamma)\n",
    "        self.n = n\n",
    "        self.m = n   # can put m as an input later - for now I choose n=m \n",
    "        sample = []\n",
    "        wll = []\n",
    "        mmd_loss = []\n",
    "        \n",
    "        \n",
    "#         #Parallelize bootstrap\n",
    "#     if R_restarts == 0: #FI-NPL (with MLE initialization to select single mode)\n",
    "#         pi_init_mle,mu_init_mle,sigma_init_mle = mgmm.init_params(y,N_data,K_clusters,D_data,tol,max_iter)\n",
    "#         temp = Parallel(n_jobs=n_cores, backend= 'loky')(delayed(mgmm.maximise_mle)(y,weights[i],pi_init_mle,\\\n",
    "#             mu_init_mle,sigma_init_mle,K_clusters,tol,max_iter,N_data) for i in tqdm(range(B_postsamples))) \n",
    "#     else:\n",
    "#         temp = Parallel(n_jobs=n_cores, backend= 'loky')(delayed(mgmm.maximise)(y,y_prior[i],weights[i],\\\n",
    "#             pi_init[i*R_restarts:(i+1)*R_restarts],mu_init[i*R_restarts:(i+1)*R_restarts],sigma_init[i*R_restarts:(i+1)*R_restarts],\\\n",
    "#             alph_conc, T_trunc,K_clusters,tol,max_iter,R_restarts,N_data,D_data, postsamples = postsamples) for i in tqdm(range(B_postsamples)))\n",
    "        \n",
    "        for j in tqdm(range(self.B)):\n",
    "            \n",
    "            # draw Dirichlet weights\n",
    "            weights = dirichlet.rvs(np.ones(self.n), size = 1, random_state = seed).flatten()\n",
    "            \n",
    "            # compute WLL minimizer\n",
    "            wll_j = self.WLL(X, weights)\n",
    "            \n",
    "            # compute MMD minimizer\n",
    "            theta_j, loss_j = self.minimise_MMD(X, weights)    # for now just for gaussian\n",
    "            \n",
    "            # add to sample\n",
    "            sample = sample + [theta_j]\n",
    "            wll = wll + [wll_j]\n",
    "            mmd_loss = mmd_loss + [loss_j]\n",
    "            \n",
    "            # add +1 to the seed for the next sample\n",
    "            seed = seed + 1\n",
    "                \n",
    "               \n",
    "        self.sample = np.array(sample)\n",
    "        self.wll = np.array(wll)\n",
    "        self.mmd_loss = np.array(mmd_loss)\n",
    "    \n",
    "    def outerdiff(self, v1,v2):\n",
    "        \"\"\"Create a matrix of differences between vector components\"\"\"\n",
    "        #m = sum(v1[:, None]-v2,axis=2)\n",
    "        m = v1[:, None]-v2\n",
    "        return(np.matrix(m))\n",
    "    \n",
    "    def MMD_approx(self,weights,kxy,kyy):\n",
    "        \"\"\"y_{i=1}^n iid from P_\\theta, x_{i=1}^m iid from Q\n",
    "        kxx is nxn, kyy is mxm and kxy is nxm\"\"\"\n",
    "        weights_mat = np.tile(weights, (self.n,1))\n",
    "        # first sum\n",
    "        np.fill_diagonal(kyy, np.repeat(0,self.n)) # exclude k(y_i, y_i) (diagonal terms)\n",
    "        sum1 = np.sum(kyy)\n",
    "    \n",
    "        # second sum\n",
    "        #sum2 = np.sum(kxy)\n",
    "        sum2 = np.sum(np.multiply(weights_mat, kxy))\n",
    "    \n",
    "        # third sum\n",
    "        np.fill_diagonal(self.kxx, np.repeat(0,self.m))\n",
    "        #sum3 = np.sum(self.kxx)\n",
    "        sum3 = np.sum(np.multiply(weights_mat,self.kxx))\n",
    "    \n",
    "        return (1/(self.n*(self.n-1)))*sum1-(2/(self.m*self.n))*sum2+(1/(self.m*(self.m-1)))*sum3\n",
    "\n",
    "\n",
    "    def grad_MMD(self,weights,kyy,kxy,theta,sample):   \n",
    "        # y sample from p_theta, x data\n",
    "        # gradient of log(p_theta(y)) w.r.t. theta\n",
    "        grad_ = theta*np.ones(self.n) - sample # or m? check\n",
    "        # weights\n",
    "        weights_mat = np.tile(weights, (self.n,1))\n",
    "        # first sum\n",
    "        np.fill_diagonal(kyy, np.repeat(0,self.n))\n",
    "  \n",
    "        # second (weighted) sum \n",
    "        w_ = np.multiply(weights_mat,kxy)\n",
    "    \n",
    "        return -2*np.mean(grad_*(kyy)/(n-1)- 2*sum(grad_*w_))\n",
    "\n",
    "\n",
    "    def minimise_MMD(self, data, weights, Nstep=1000 ,gamma=1, eta=0.1):\n",
    "        \"\"\"Gaussian kernel of parameter gamma=1\n",
    "        Minibatch size = sample size = n, number of iterations = Nstep = 1000\"\"\"\n",
    "        \"\"\"MMD minimzer between P^(j) for \\alpha=0 and P_\\theta using PSGD\"\"\"\n",
    "        theta = 0.0\n",
    "        t = 0\n",
    "        gradient = 100\n",
    "        while t < Nstep and abs(gradient) > 0.0001: \n",
    "            #print(\"---Performing step\", t, \"of SGD---\")\n",
    "            #print(\"Minimizing MMD...\")\n",
    "            sample = np.random.normal(loc=theta,scale=1,size=self.n)\n",
    "            kyy = np.matrix(k(sample,sample,gamma))\n",
    "            kxy = np.matrix(k(sample,data,gamma))\n",
    "            #kxx = np.matrix(k(data,data,gamma))\n",
    "            gradient = self.grad_MMD(weights,kyy,kxy,theta,sample)\n",
    "            theta -= eta*gradient\n",
    "            t += 1\n",
    "        #print(\"stopped after\", t, \"steps\")\n",
    "        loss = MMD_approx(n,n,self.kxx,kxy,kyy)\n",
    "        return theta, loss\n",
    "        \n",
    "    def WLL(self, data, weights):\n",
    "        \"\"\"Get weighted log likelihood minimizer, for gaussian model\"\"\"\n",
    "        theta = 0\n",
    "        for i in range(self.n):\n",
    "            theta += weights[i]*data[i] \n",
    "        return theta"
   ]
  },
  {
   "cell_type": "code",
   "execution_count": 14,
   "metadata": {},
   "outputs": [
    {
     "name": "stdout",
     "output_type": "stream",
     "text": [
      "-----Running for 0 % of outliers-----\n",
      "Drawing samples...\n"
     ]
    },
    {
     "data": {
      "application/vnd.jupyter.widget-view+json": {
       "model_id": "6dee792e8b274f30bfae96a4b9e3cd32",
       "version_major": 2,
       "version_minor": 0
      },
      "text/plain": [
       "HBox(children=(IntProgress(value=0, max=1000), HTML(value='')))"
      ]
     },
     "metadata": {},
     "output_type": "display_data"
    },
    {
     "name": "stdout",
     "output_type": "stream",
     "text": [
      "\n",
      "-----Running for 5 % of outliers-----\n",
      "Drawing samples...\n"
     ]
    },
    {
     "data": {
      "application/vnd.jupyter.widget-view+json": {
       "model_id": "93a9befe6375418eb0ffc6e1da4b0844",
       "version_major": 2,
       "version_minor": 0
      },
      "text/plain": [
       "HBox(children=(IntProgress(value=0, max=1000), HTML(value='')))"
      ]
     },
     "metadata": {},
     "output_type": "display_data"
    },
    {
     "name": "stdout",
     "output_type": "stream",
     "text": [
      "\n",
      "-----Running for 10 % of outliers-----\n",
      "Drawing samples...\n"
     ]
    },
    {
     "data": {
      "application/vnd.jupyter.widget-view+json": {
       "model_id": "e13c735c15b640609dcd43b19a83494e",
       "version_major": 2,
       "version_minor": 0
      },
      "text/plain": [
       "HBox(children=(IntProgress(value=0, max=1000), HTML(value='')))"
      ]
     },
     "metadata": {},
     "output_type": "display_data"
    },
    {
     "name": "stdout",
     "output_type": "stream",
     "text": [
      "\n",
      "-----Running for 15 % of outliers-----\n",
      "Drawing samples...\n"
     ]
    },
    {
     "data": {
      "application/vnd.jupyter.widget-view+json": {
       "model_id": "527ab59e58f44310b61a81465e2ee613",
       "version_major": 2,
       "version_minor": 0
      },
      "text/plain": [
       "HBox(children=(IntProgress(value=0, max=1000), HTML(value='')))"
      ]
     },
     "metadata": {},
     "output_type": "display_data"
    },
    {
     "name": "stdout",
     "output_type": "stream",
     "text": [
      "\n",
      "-----Running for 20 % of outliers-----\n",
      "Drawing samples...\n"
     ]
    },
    {
     "data": {
      "application/vnd.jupyter.widget-view+json": {
       "model_id": "5d2d335336714c89b38f758e8d583c2d",
       "version_major": 2,
       "version_minor": 0
      },
      "text/plain": [
       "HBox(children=(IntProgress(value=0, max=1000), HTML(value='')))"
      ]
     },
     "metadata": {},
     "output_type": "display_data"
    },
    {
     "name": "stdout",
     "output_type": "stream",
     "text": [
      "\n",
      "Time : 820.1160960197449 seconds\n",
      "MSE of MMD for 0 % of outliers : 0.01581632801501522\n",
      "MSE of MLE for 0 % of outliers : 0.00985173125741424\n",
      "MSE of WLL for 0 % of outliers : 0.011770067260899698\n",
      "MSE of MMD for 5 % of outliers : 0.003297420958382847\n",
      "MSE of MLE for 5 % of outliers : 0.08999701750857216\n",
      "MSE of WLL for 5 % of outliers : 0.09614461987458364\n",
      "MSE of MMD for 10 % of outliers : 0.0030133224296601388\n",
      "MSE of MLE for 10 % of outliers : 0.230645730626799\n",
      "MSE of WLL for 10 % of outliers : 0.23578785794586354\n",
      "MSE of MMD for 15 % of outliers : 0.0060471343488968255\n",
      "MSE of MLE for 15 % of outliers : 0.6179147690702497\n",
      "MSE of WLL for 15 % of outliers : 0.6254522566271669\n",
      "MSE of MMD for 20 % of outliers : 0.0036127202875990178\n",
      "MSE of MLE for 20 % of outliers : 1.0210796649309293\n",
      "MSE of WLL for 20 % of outliers : 1.0358507794011818\n"
     ]
    }
   ],
   "source": [
    "start_time = time.time()\n",
    "theta = 0\n",
    "n = 500 \n",
    "N = 1\n",
    "B = 1000\n",
    "outl = 5\n",
    "results = np.zeros([3*outl,N]) #for i in arange(N):\n",
    "for n_cont in np.arange(outl):\n",
    "    for i in range(N):\n",
    "        print(\"-----Running for\", n_cont*5, \"% of outliers-----\")\n",
    "        normal_contamination = np.random.normal(loc=5,scale=1,size=int(np.floor(int(n_cont)*5/100*n)))\n",
    "        X = datagen(n=n,theta=theta,contamination=normal_contamination) \n",
    "        npl = NPL(B)\n",
    "        npl.draw_samples(X)\n",
    "        sample = npl.sample\n",
    "        wll_sample = npl.wll\n",
    "        mmd_loss = npl.mmd_loss\n",
    "        results[n_cont*3,i] = np.mean((theta-sample)**2)\n",
    "        results[n_cont*3+1,i] = np.mean((theta-MLE(X))**2)\n",
    "        results[n_cont*3+2,i] = np.mean((theta-wll_sample)**2)\n",
    "    vec_res = np.mean(results,axis=1)      # swsto auto edw?\n",
    "end_time = time.time()\n",
    "print('Time :', end_time-start_time, 'seconds')\n",
    "for n_cont in np.arange(outl):\n",
    "    print('MSE of MMD for', n_cont*5, '% of outliers :', (vec_res[n_cont*3+0]))\n",
    "    print('MSE of MLE for', n_cont*5, '% of outliers :', (vec_res[n_cont*3+1]))\n",
    "    print('MSE of WLL for', n_cont*5, '% of outliers :', (vec_res[n_cont*3+2]))"
   ]
  },
  {
   "cell_type": "code",
   "execution_count": 15,
   "metadata": {},
   "outputs": [
    {
     "data": {
      "image/png": "[encoded data removed]",
      "text/plain": [
       "<Figure size 864x288 with 1 Axes>"
      ]
     },
     "metadata": {
      "needs_background": "light"
     },
     "output_type": "display_data"
    }
   ],
   "source": [
    "fig = plt.figure(figsize=(18, 18))\n",
    "\n",
    "#plt.subplot(1, 2, 1,)\n",
    "results_mmd = []\n",
    "results_mle = []\n",
    "results_wll = []\n",
    "for i in np.arange(outl):\n",
    "    results_mmd.append(vec_res[i*3+0])\n",
    "    results_mle.append(vec_res[i*3+1])\n",
    "    results_wll.append(vec_res[i*3+2])\n",
    "\n",
    "plt.plot(np.linspace(0,4*outl,outl), results_mmd, 'r--', label='MMD')\n",
    "plt.plot(np.linspace(0,4*outl,outl), results_mle, 'b--', label='MLE')\n",
    "plt.plot(np.linspace(0,4*outl,outl), results_wll, 'g--', label='WLL')\n",
    "#plt.plot(arange(0,0.225,0.025), vec_res[arange(outl)*3+2], 'g--', label='MED')\n",
    "#plt.plot(arange(0,0.30,0.05), vec_res[arange(outl)*4+3], 'p+-', label='VI')\n",
    "leg = plt.legend(loc='best', ncol=1)\n",
    "leg.get_frame().set_alpha(0.5)\n",
    "plt.xlabel('Percentage of outliers',fontsize='x-large')\n",
    "plt.ylabel('MSE',fontsize='x-large')\n",
    "\n",
    "# plt.subplot(1, 2, 2)\n",
    "# plt.plot(arange(0,0.225,0.025), vec_res[arange(outl)*3+0], 'r--', label='MMD')\n",
    "# plt.plot(arange(0,0.225,0.025), vec_res[arange(outl)*3+2], 'g--', label='MED')\n",
    "# #plt.plot(arange(0,0.30,0.05), vec_res[arange(outl)*4+3], 'p+-', label='VI')\n",
    "# leg = plt.legend(loc='best', ncol=1)\n",
    "# leg.get_frame().set_alpha(0.5)\n",
    "# plt.xlabel('Ratio of outliers',fontsize='x-large')\n",
    "# plt.ylabel('Sqrt of MSE',fontsize='x-large')\n",
    "\n",
    "fig.set_size_inches(12, 4)\n",
    "\n",
    "plt.tight_layout()"
   ]
  },
  {
   "cell_type": "code",
   "execution_count": 16,
   "metadata": {},
   "outputs": [
    {
     "data": {
      "text/plain": [
       "Text(0, 0.5, 'MMD^2 loss')"
      ]
     },
     "execution_count": 16,
     "metadata": {},
     "output_type": "execute_result"
    },
    {
     "data": {
      "image/png": "[encoded data removed]",
      "text/plain": [
       "<Figure size 432x288 with 1 Axes>"
      ]
     },
     "metadata": {
      "needs_background": "light"
     },
     "output_type": "display_data"
    }
   ],
   "source": [
    "plt.plot(range(B), mmd_loss, label='MMD')\n",
    "leg = plt.legend(loc='best', ncol=1)\n",
    "leg.get_frame().set_alpha(0.5)\n",
    "plt.xlabel('Bootstrap iteration',fontsize='x-large')\n",
    "plt.ylabel('MMD^2 loss',fontsize='x-large')"
   ]
  },
  {
   "cell_type": "code",
   "execution_count": 146,
   "metadata": {},
   "outputs": [],
   "source": [
    "np.savetxt(fname='01_res.txt', X=vec_res)"
   ]
  },
  {
   "cell_type": "code",
   "execution_count": null,
   "metadata": {},
   "outputs": [],
   "source": [
    "# old mmd function inside NPL class\n",
    "#     def MMD(self, data, weights, Nstep=1000 ,gamma=1, eta=0.2):\n",
    "#         \"\"\"Gaussian kernel of parameter gamma=1\n",
    "#         Minibatch size = sample size = n, number of iterations = Nstep = 1000\"\"\"\n",
    "#         \"\"\"MMD minimzer between P^(j) for \\alpha=0 and P_\\theta using PSGD\"\"\"\n",
    "#         theta = 0.0\n",
    "#         t = 0\n",
    "#         gradient = 100\n",
    "#         while t < Nstep and abs(gradient) > 0.0001: \n",
    "#            #print(\"---Performing step\", t, \"of SGD---\")\n",
    "#            #print(\"Minimizing MMD...\")\n",
    "#             sample = np.random.normal(loc=theta,scale=1,size=self.n) \n",
    "#             K1 = self.outerdiff(v1=sample,v2=data)\n",
    "#             K2 = self.outerdiff(v1=sample,v2=sample)\n",
    "#             diff = theta*np.ones(self.n)-sample\n",
    "#             weights_mat = np.tile(weights, (self.n,1))\n",
    "#         #gradient = -2*(mean(diff*(exp(-gamma*multiply(K2,K2))-diag(ones(n))))/(n-1)-mean(diff*exp(-gamma*multiply(K1,K1))))\n",
    "#             gradient = -2*np.mean(diff*(np.exp(-gamma*np.multiply(K2,K2))-np.diag(np.ones(self.n)))/(self.n-1)-\n",
    "#                             sum(diff*np.multiply(weights_mat, np.exp(-gamma*np.multiply(K1,K1)))))\n",
    "#             theta = theta-eta*gradient/np.sqrt(t+1)\n",
    "#             t += 1\n",
    "#         #print(\"stopped after\", t, \"steps\")\n",
    "#         return theta"
   ]
  },
  {
   "cell_type": "markdown",
   "metadata": {},
   "source": [
    "### Test MMD convergence"
   ]
  },
  {
   "cell_type": "code",
   "execution_count": 335,
   "metadata": {},
   "outputs": [],
   "source": [
    "def outerdiff(v1,v2):\n",
    "    \"\"\"Create a matrix of differences between vector components\"\"\"\n",
    "    #m = sum(v1[:, None]-v2,axis=2)\n",
    "    m = v1[:, None]-v2\n",
    "    return(np.matrix(m))"
   ]
  },
  {
   "cell_type": "code",
   "execution_count": 451,
   "metadata": {},
   "outputs": [],
   "source": [
    "def MMD_(data, weights, Nstep=1000 ,gamma=1, eta=0.1):\n",
    "    \"\"\"Gaussian kernel of parameter gamma=1\n",
    "    Minibatch size = sample size = n, number of iterations = Nstep = 1000\"\"\"\n",
    "    \"\"\"MMD minimzer between P^(j) for \\alpha=0 and P_\\theta using PSGD\"\"\"\n",
    "    n = data.shape[0]\n",
    "    thetas = []\n",
    "    theta = 0.0\n",
    "    grads = []\n",
    "    losses = []\n",
    "    t = 0\n",
    "    gradient = 100\n",
    "    while t < Nstep and abs(gradient) > 0.0001: \n",
    "        #print(\"---Performing step\", t, \"of SGD---\")\n",
    "        #print(\"Minimizing MMD...\")\n",
    "        sample = np.random.normal(loc=theta,scale=1,size=n)\n",
    "        K1 = outerdiff(v1=sample,v2=data)\n",
    "        K2 = outerdiff(v1=sample,v2=sample)\n",
    "        diff = theta*np.ones(n)-sample\n",
    "        kyy = np.matrix(k(sample,sample,gamma))\n",
    "        kxy = np.matrix(k(sample,data,gamma))\n",
    "        kxx = np.matrix(k(data,data,gamma))\n",
    "        weights_mat = np.tile(weights, (n,1))\n",
    "        gradient = grad_MMD(n,n,weights,kyy,kxy,theta,sample)\n",
    "        #gradient = -2*np.mean(diff*(kyy)/(n-1)- 2*sum(diff*np.multiply(weights_mat, kxy)))\n",
    "        #grads.append(gradient)\n",
    "        theta -= eta*gradient\n",
    "        loss = MMD_approx(n,n,kxx,kxy,kyy)\n",
    "        losses.append(loss)\n",
    "        thetas.append(theta)\n",
    "        t += 1\n",
    "    print(\"stopped after\", t, \"steps\")\n",
    "    return theta, thetas, losses, t"
   ]
  },
  {
   "cell_type": "code",
   "execution_count": 452,
   "metadata": {},
   "outputs": [
    {
     "name": "stdout",
     "output_type": "stream",
     "text": [
      "stopped after 213 steps\n"
     ]
    }
   ],
   "source": [
    "n=500\n",
    "theta=2\n",
    "weights = dirichlet.rvs(np.ones(n), size = 1).flatten()\n",
    "X = datagen(n=n,theta=theta,contamination=np.random.standard_cauchy(100))           \n",
    "theta_star, thetas, losses, iterations = MMD_(X, weights)"
   ]
  },
  {
   "cell_type": "code",
   "execution_count": 453,
   "metadata": {},
   "outputs": [
    {
     "data": {
      "text/plain": [
       "<function matplotlib.pyplot.show(*args, **kw)>"
      ]
     },
     "execution_count": 453,
     "metadata": {},
     "output_type": "execute_result"
    },
    {
     "data": {
      "image/png": "[encoded data removed]",
      "text/plain": [
       "<Figure size 432x288 with 1 Axes>"
      ]
     },
     "metadata": {
      "needs_background": "light"
     },
     "output_type": "display_data"
    }
   ],
   "source": [
    "plt.plot(range(iterations),abs(thetas-theta*np.ones(iterations)))\n",
    "plt.xlabel('SGD iterations',fontsize='x-large')\n",
    "plt.ylabel('|theta-theta^*|',fontsize='x-large')\n",
    "\n",
    "plt.show"
   ]
  },
  {
   "cell_type": "code",
   "execution_count": 454,
   "metadata": {},
   "outputs": [
    {
     "data": {
      "text/plain": [
       "Text(0, 0.5, 'MMD^2 loss')"
      ]
     },
     "execution_count": 454,
     "metadata": {},
     "output_type": "execute_result"
    },
    {
     "data": {
      "image/png": "[encoded data removed]",
      "text/plain": [
       "<Figure size 432x288 with 1 Axes>"
      ]
     },
     "metadata": {
      "needs_background": "light"
     },
     "output_type": "display_data"
    }
   ],
   "source": [
    "plt.plot(range(iterations), losses)\n",
    "plt.xlabel('SGD iterations', fontsize='x-large')\n",
    "plt.ylabel('MMD^2 loss', fontsize='x-large')"
   ]
  },
  {
   "cell_type": "code",
   "execution_count": null,
   "metadata": {},
   "outputs": [],
   "source": []
  }
 ],
 "metadata": {
  "kernelspec": {
   "display_name": "Python 3",
   "language": "python",
   "name": "python3"
  },
  "language_info": {
   "codemirror_mode": {
    "name": "ipython",
    "version": 3
   },
   "file_extension": ".py",
   "mimetype": "text/x-python",
   "name": "python",
   "nbconvert_exporter": "python",
   "pygments_lexer": "ipython3",
   "version": "3.7.4"
  }
 },
 "nbformat": 4,
 "nbformat_minor": 2
}
