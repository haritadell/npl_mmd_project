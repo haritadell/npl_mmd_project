{
 "cells": [
  {
   "cell_type": "markdown",
   "metadata": {},
   "source": [
    "### Imports packages"
   ]
  },
  {
   "cell_type": "code",
   "execution_count": 19,
   "metadata": {},
   "outputs": [],
   "source": [
    "import numpy as np\n",
    "import time\n",
    "import matplotlib.pyplot as plt\n",
    "from scipy.stats import dirichlet\n",
    "import statsmodels.api as sm\n",
    "from tqdm import tqdm_notebook as tqdm\n",
    "import scipy.spatial.distance as distance\n",
    "from sklearn.metrics import mean_squared_error\n",
    "from joblib import Parallel, delayed\n",
    "from multiprocessing import Pool\n",
    "import sys"
   ]
  },
  {
   "cell_type": "markdown",
   "metadata": {},
   "source": [
    "### Data simulation: $(X_1,\\dots,X_n)$."
   ]
  },
  {
   "cell_type": "code",
   "execution_count": 20,
   "metadata": {},
   "outputs": [],
   "source": [
    "# Sample a dataset of size n from univariate Gaussians with a portion of outliers\n",
    "def datagen(n,theta,contamination = []):\n",
    "    datag = np.random.normal(loc=theta,scale=1,size=n-np.size(contamination))\n",
    "    datag = np.concatenate((datag,contamination),axis=0)\n",
    "    return np.matrix(datag)"
   ]
  },
  {
   "cell_type": "markdown",
   "metadata": {
    "colab_type": "text",
    "id": "YIc01F0ANpRf"
   },
   "source": [
    "## Box-Muller transformation"
   ]
  },
  {
   "cell_type": "markdown",
   "metadata": {
    "colab_type": "text",
    "id": "9RC2igG8NyGX"
   },
   "source": [
    "Box-Muller transformation:"
   ]
  },
  {
   "cell_type": "code",
   "execution_count": 21,
   "metadata": {
    "colab": {},
    "colab_type": "code",
    "id": "MIMjA1XZNulw"
   },
   "outputs": [],
   "source": [
    "def boxmuller(unif1,unif2):\n",
    "    u1 = np.sqrt(-2*np.log(unif1))*np.cos(2*np.pi*unif2)\n",
    "    u2 = np.sqrt(-2*np.log(unif1))*np.sin(2*np.pi*unif2)\n",
    "    return np.transpose(np.vstack([u1,u2]))"
   ]
  },
  {
   "cell_type": "markdown",
   "metadata": {
    "colab_type": "text",
    "id": "0EwcmZhwOSWD"
   },
   "source": [
    "Function generating standard normals using the box-muller transformation:"
   ]
  },
  {
   "cell_type": "code",
   "execution_count": 22,
   "metadata": {
    "colab": {},
    "colab_type": "code",
    "id": "8hLV50nGOBoX"
   },
   "outputs": [],
   "source": [
    "def normals(n, d, unif, sv=False):\n",
    "\n",
    "    # avoid origin\n",
    "    unif[unif==0] = np.nextafter(0, 1)\n",
    "\n",
    "    # if d is odd, add one dimension\n",
    "    if d % 2 != 0:\n",
    "        dim = d + 1\n",
    "    else:\n",
    "        dim = d\n",
    "\n",
    "    # expand dimensions for SV model\n",
    "    if sv == True:\n",
    "        dim = 2+2*d\n",
    "\n",
    "    # create standard normal samples\n",
    "    u = np.zeros((n,dim))\n",
    "    for i in np.arange(0,dim,2):\n",
    "        u[:,i:(i+2)] = boxmuller(unif[:,i],unif[:,(i+1)])\n",
    "\n",
    "    # if d is odd, drop one dimension\n",
    "    if d % 2 != 0 or sv == True:\n",
    "        u = np.delete(u,-1,1)\n",
    "\n",
    "    return u"
   ]
  },
  {
   "cell_type": "markdown",
   "metadata": {},
   "source": [
    "### Gaussian Kernel\n",
    "Gaussian kernel $k(x,y)$, its gradient w.r.t. first element $\\nabla_1k(x,y)$ and its second derivative w.r.t. to the second and first argument $\\nabla_2\\nabla_1k(x,y)$:"
   ]
  },
  {
   "cell_type": "code",
   "execution_count": 23,
   "metadata": {},
   "outputs": [],
   "source": [
    "def k(x,y,l, sparse=False): \n",
    "\n",
    "    if sparse == True:\n",
    "        x = x.astype('float32')\n",
    "        y = y.astype('float32')\n",
    "    \n",
    "    # dimensions\n",
    "    d = x.shape[1]\n",
    "    dims = np.arange(d)\n",
    "    \n",
    "    # kernel\n",
    "    kernel = np.exp(-(1/(2*l**2))*distance.cdist(x,y,'sqeuclidean'))\n",
    "    \n",
    "    if type(x) != np.ndarray: # using np.matrix.A to convert to ndarray\n",
    "        x = x.A\n",
    "    if type(y) != np.ndarray:\n",
    "        y = y.A\n",
    "    \n",
    "    # first derivative\n",
    "    grad_1 = -1*np.squeeze(np.subtract.outer(x,y)[:,[dims],:,[dims]], axis=0)*(1/l**2)*np.expand_dims(kernel, axis=0)\n",
    "    \n",
    "    #second derivative\n",
    "    grad_21 = (1/l**2)*(np.expand_dims(np.expand_dims(np.eye(d), axis = 2), axis = 3)-np.einsum('ijk,ljk->iljk',np.squeeze(np.subtract.outer(x,y)[:,[dims],:,[dims]], axis=0),np.squeeze(np.subtract.outer(x,y)[:,[dims],:,[dims]], axis=0))*(1/l**2))*kernel\n",
    "    \n",
    "    return list([kernel, grad_1, grad_21])"
   ]
  },
  {
   "cell_type": "markdown",
   "metadata": {},
   "source": [
    "### $MMD^2$ approximation"
   ]
  },
  {
   "cell_type": "code",
   "execution_count": 38,
   "metadata": {},
   "outputs": [],
   "source": [
    "def MMD_approx(n,m,weights,kxx,kxy,kyy):\n",
    "        \"\"\"y_{i=1}^m iid from P_\\theta, x_{i=1}^n iid from P_0\n",
    "        kxx is nxn, kyy is mxm and kxy is nxm\"\"\"\n",
    "        \n",
    "        # first sum\n",
    "        np.fill_diagonal(kyy, np.repeat(0,m)) # exclude k(y_i, y_i) (diagonal terms)\n",
    "        sum1 = np.sum(kyy)\n",
    "    \n",
    "        # second sum\n",
    "        #sum2 = np.sum(kxy)\n",
    "        sum2 = np.sum(kxy*weights)\n",
    "    \n",
    "        # third sum\n",
    "        np.fill_diagonal(kxx, np.repeat(0,n))\n",
    "        #sum3 = np.sum(self.kxx)\n",
    "        sum3 = np.sum(kxx*weights)\n",
    "    \n",
    "        #return (1/(m*(m-1)))*sum1-(2/(m*n))*sum2+(1/(n*(n-1)))*sum3\n",
    "        return (1/(m*(m-1)))*sum1-(2/(m))*sum2+(1/(n-1))*sum3"
   ]
  },
  {
   "cell_type": "markdown",
   "metadata": {},
   "source": [
    "### MMD$^2$ gradient approximation between $P_{\\theta}$ and $\\sum_{i=1}^n w_i \\delta_{x_i}$:"
   ]
  },
  {
   "cell_type": "code",
   "execution_count": 25,
   "metadata": {},
   "outputs": [],
   "source": [
    "def grad_MMD(p,n,m,grad_g,weights,k1yy,k1xy):\n",
    "    \n",
    "    # first sum\n",
    "    prod1 = np.squeeze(np.einsum('ilj,imjk->lmjk', grad_g, np.expand_dims(k1yy,axis=1)))\n",
    "    if prod1.ndim==2:\n",
    "        np.fill_diagonal(prod1[:,:], 0)\n",
    "        sum1 = np.sum(prod1)\n",
    "    else:\n",
    "        for i in range(p):\n",
    "            np.fill_diagonal(prod1[i,:,:], 0)\n",
    "        sum1 = np.einsum('ijk->i',prod1)\n",
    "    \n",
    "    # second sum\n",
    "    k1xy[0,:,:] = k1xy[0,:,:]*weights\n",
    "    prod2 = np.squeeze(np.einsum('ilj,imjk->lmjk', grad_g, np.expand_dims(k1xy,axis=1)))\n",
    "    if prod2.ndim==2:\n",
    "        sum2 = np.sum(prod2)\n",
    "    else:\n",
    "        sum2 = np.einsum('ijk->i',prod2)\n",
    "    \n",
    "    #return (2/(m*(m-1)))*sum1-(2/(n*m))*sum2\n",
    "    return (2/(m*(m-1)))*sum1-(2/(m))*sum2"
   ]
  },
  {
   "cell_type": "markdown",
   "metadata": {
    "colab_type": "text",
    "id": "1LvGBN7TM8Na"
   },
   "source": [
    "## Information metric"
   ]
  },
  {
   "cell_type": "markdown",
   "metadata": {
    "colab_type": "text",
    "id": "cyS2x9I_NMR0"
   },
   "source": [
    "Approximation of the informatin metric $g_U(\\theta)$:"
   ]
  },
  {
   "cell_type": "code",
   "execution_count": 26,
   "metadata": {
    "colab": {},
    "colab_type": "code",
    "id": "QQzAWRijNAfW"
   },
   "outputs": [],
   "source": [
    "def g_approx(p,m,grad_g,k21xx):\n",
    "    \n",
    "    # sum\n",
    "    grad_g_T = np.einsum('ijk -> jik',grad_g)\n",
    "    prod1 = np.einsum('ijk, jlkm -> ilkm', grad_g_T, k21xx)\n",
    "    prod2 = np.einsum('ijkl,jmk->imkl', prod1, grad_g)\n",
    "    for i in range(p):\n",
    "        np.fill_diagonal(prod2[i,i,:,:], 0)\n",
    "    gsum = np.einsum('ijkl->ij', prod2)\n",
    "    \n",
    "    return 1/(m*(m-1))*gsum"
   ]
  },
  {
   "cell_type": "markdown",
   "metadata": {
    "colab_type": "text",
    "id": "6mXMhuXAMEtl"
   },
   "source": [
    "## Generator"
   ]
  },
  {
   "cell_type": "markdown",
   "metadata": {
    "colab_type": "text",
    "id": "TCpyNp-hNdFA"
   },
   "source": [
    "Generator $G_\\theta(u)$ and generator gradient $\\nabla_\\theta G_\\theta(u)$ for the **Gaussian location model**:"
   ]
  },
  {
   "cell_type": "code",
   "execution_count": 27,
   "metadata": {
    "colab": {},
    "colab_type": "code",
    "id": "yM6GBykWMHL-"
   },
   "outputs": [],
   "source": [
    "# generator\n",
    "def gen_gaussian(n, d, unif, theta, sigma):\n",
    "\n",
    "    unif[unif==0] = np.nextafter(0, 1)\n",
    "\n",
    "    # if d is odd, add one dimension\n",
    "    if d % 2 != 0:\n",
    "        dim = d + 1\n",
    "    else:\n",
    "        dim = d\n",
    "\n",
    "    # create standard normal samples\n",
    "    u = np.zeros((n,dim))\n",
    "    for i in np.arange(0,dim,2):\n",
    "        u[:,i:(i+2)] = boxmuller(unif[:,i],unif[:,(i+1)])\n",
    "\n",
    "    # if d is odd, drop one dimension\n",
    "    if d % 2 != 0:\n",
    "        u = np.delete(u,-1,1)\n",
    "\n",
    "    # generate samples\n",
    "    x = theta + u*sigma\n",
    "\n",
    "    return x\n",
    "\n",
    "# gradient of the generator\n",
    "def grad_gen_gaussian(m, theta):\n",
    "    arg1 = np.expand_dims(np.eye(theta.shape[0]),axis=2)\n",
    "    arg2 = (theta.shape[0],theta.shape[0],m)\n",
    "    return np.broadcast_to(arg1,arg2)    "
   ]
  },
  {
   "cell_type": "markdown",
   "metadata": {
    "colab_type": "text",
    "id": "53HlW2e5WZEi"
   },
   "source": [
    "Function to sample from **Gaussian location model**:\n",
    "\n"
   ]
  },
  {
   "cell_type": "code",
   "execution_count": 28,
   "metadata": {
    "colab": {},
    "colab_type": "code",
    "id": "SfTJQgrZWfHe"
   },
   "outputs": [],
   "source": [
    "def sample_gaussian_outl(method_sampling,n,d,s,theta,n_cont = 0):   # set n_cont to zero if you don't want outliers\n",
    "\n",
    "    ' caveat:                                                                 '\n",
    "    ' the qmc or qmc_1 sequence have to be fixed before using this function   '\n",
    "    \n",
    "    cont_size = int(np.floor(int(n_cont)*5/100*n))\n",
    "    n_real = n - cont_size\n",
    "    \n",
    "    # odd number of parameters\n",
    "    if d % 2 != 0: \n",
    "        if method_sampling == 'MC':\n",
    "            unif = np.random.rand(n_real,d+1)\n",
    "        if method_sampling == 'QMC':\n",
    "            unif = qmc_1.gen_samples(n_real)\n",
    "        if method_sampling == 'RQMC':\n",
    "            unif = qmcpy.Halton(d+1).gen_samples(n_real)\n",
    "\n",
    "    # even number of parameters\n",
    "    else: \n",
    "        if method_sampling == 'MC':\n",
    "            unif = np.random.rand(n_real,d)\n",
    "        if method_sampling == 'QMC':\n",
    "            unif = qmc.gen_samples(n_real)\n",
    "        if method_sampling == 'RQMC':\n",
    "            unif = qmcpy.Halton(d).gen_samples(n_real)\n",
    "\n",
    "    # use generator  \n",
    "    outl = np.asmatrix(np.random.normal(loc=5,scale=1,size=cont_size)).transpose()\n",
    "    sample_ = gen_gaussian(n_real,d,unif,theta,s) \n",
    "    x = np.concatenate((sample_, outl), axis=0)\n",
    "        \n",
    "    return x"
   ]
  },
  {
   "cell_type": "markdown",
   "metadata": {},
   "source": [
    "### Computation of the Maximum Likelihood Estimator (the mean) $\\frac{1}{n}\\sum_{i=1}^n X_i$ and the geometric median"
   ]
  },
  {
   "cell_type": "code",
   "execution_count": 29,
   "metadata": {},
   "outputs": [],
   "source": [
    "def MLE(data):\n",
    "    return(np.mean(data))"
   ]
  },
  {
   "cell_type": "code",
   "execution_count": 30,
   "metadata": {},
   "outputs": [],
   "source": [
    "def GEO_MED(data):\n",
    "    return(np.median(data))"
   ]
  },
  {
   "cell_type": "markdown",
   "metadata": {},
   "source": [
    "### NPL\n",
    "For Generative models"
   ]
  },
  {
   "cell_type": "code",
   "execution_count": 1,
   "metadata": {},
   "outputs": [],
   "source": [
    "class NPL():\n",
    "    \"\"\"This class contains everything that is needed for inference with a \n",
    "    given model. \n",
    "    \"\"\"\n",
    "    \n",
    "    def __init__(self, X, B, m, s, p, l, method_gd = 'SGD'):\n",
    "        self.B = B  # number of bootstrap iterations\n",
    "        self.m = m  # number of points sampled from P_\\theta at each optim. iteration\n",
    "        self.s = s  # standard deviation of the model \n",
    "        self.p = p  # number of unknown parameters\n",
    "        self.X = X  # data\n",
    "        self.n, self.d = self.X.shape   # dims of data\n",
    "        self.method_gd = method_gd # optim. method: SGD or NSGD\n",
    "        self.l = l  # lengthscale of gaussian kernel\n",
    "        # median heuristic if l=-1 \n",
    "        if self.l == -1:\n",
    "            self.l = np.sqrt((1/2)*np.median(distance.cdist(self.X,self.X,'sqeuclidean')))\n",
    "        self.kxx = k(self.X,self.X,self.l)[0]\n",
    "        \n",
    "        \n",
    "    def draw_single_sample(self, bootstrap_it):\n",
    "        \n",
    "        # draw Dirichlet weights\n",
    "        weights = dirichlet.rvs(np.ones(self.n), size = 1).flatten()   # ranodm state?\n",
    "        # compute WLL minimizer\n",
    "        wll_j = self.WLL(self.X, weights)  \n",
    "        # compute MMD minimizer\n",
    "        theta_j, loss_j, gd_losses_j = self.minimise_MMD(self.X, weights)    \n",
    "        \n",
    "        return theta_j, wll_j, loss_j, gd_losses_j\n",
    "        \n",
    "    \n",
    "    def draw_samples(self, seed=0):\n",
    "        \"\"\"Draws B samples from the nonparametric posterior specified via\n",
    "        the likelihood and the data X\"\"\"\n",
    "        \n",
    "        print(\"Drawing samples...\")    \n",
    "        \n",
    "        sample = np.zeros((self.B,self.p))\n",
    "        wll = np.zeros((self.B,self.p))\n",
    "        mmd_loss = np.zeros((self.B,self.p))\n",
    "        \n",
    "        # Parallelize\n",
    "        # temp = Parallel(n_jobs=-1, backend= 'loky', max_nbytes = \"50M\" )(delayed(self.draw_single_sample)(X, self.n) for j in tqdm(range(self.B)))  \n",
    "        if __name__ == '__main__':\n",
    "            pool = Pool()               # Create a multiprocessing Pool - defualt arg. is max number of n_cores\n",
    "            temp = pool.map(self.draw_single_sample, tqdm(range(self.B))) \n",
    "        \n",
    "        for i in range(self.B):\n",
    "            sample[i,:] = temp[i][0]\n",
    "            wll[i,:] = temp[i][1]\n",
    "            mmd_loss[i,:] = temp[i][2]\n",
    "            # gd_losses\n",
    "                    \n",
    "        self.sample = np.array(sample)\n",
    "        self.wll = np.array(wll)\n",
    "        self.mmd_loss = np.array(mmd_loss)\n",
    "    \n",
    "    # generator\n",
    "    def gen_gaussian(self, unif, theta):\n",
    "\n",
    "        unif[unif==0] = np.nextafter(0, 1)\n",
    "\n",
    "        # if d is odd, add one dimension\n",
    "        if self.d % 2 != 0:\n",
    "            dim = self.d + 1\n",
    "        else:\n",
    "            dim = self.d\n",
    "\n",
    "        # create standard normal samples\n",
    "        u = np.zeros((self.m,dim))\n",
    "        for i in np.arange(0,dim,2):\n",
    "            u[:,i:(i+2)] = boxmuller(unif[:,i],unif[:,(i+1)])\n",
    "\n",
    "        # if d is odd, drop one dimension\n",
    "        if self.d % 2 != 0:\n",
    "            u = np.delete(u,-1,1)\n",
    "\n",
    "       # generate samples\n",
    "        x = theta + u*self.s\n",
    "\n",
    "        return x\n",
    "\n",
    "    # gradient of the generator\n",
    "    def grad_gen_gaussian(self,theta):\n",
    "        return np.broadcast_to(np.expand_dims(np.eye(theta.shape[0]),axis=2),(theta.shape[0],theta.shape[0],self.m))\n",
    "    \n",
    "    def g_approx(self,grad_g, k2yy):\n",
    "        # sum\n",
    "        grad_g_T = np.einsum('ijk -> jik',grad_g)\n",
    "        prod1 = np.einsum('ijk, jlkm -> ilkm', grad_g_T, k2yy)\n",
    "        prod2 = np.einsum('ijkl,jmk->imkl', prod1, grad_g)\n",
    "        for i in range(self.p):\n",
    "            np.fill_diagonal(prod2[i,i,:,:], 0)\n",
    "        gsum = np.einsum('ijkl->ij', prod2)\n",
    "    \n",
    "        return 1/(self.m*(self.m-1))*gsum\n",
    "\n",
    "    def sample_gaussian(self,method_sampling,theta):\n",
    "\n",
    "        ' caveat:                                                                 '\n",
    "        ' the qmc or qmc_1 sequence have to be fixed before using this function   '\n",
    "\n",
    "        # odd number of parameters\n",
    "        if self.d % 2 != 0: \n",
    "            if method_sampling == 'MC':\n",
    "                unif = np.random.rand(self.m,self.d+1)\n",
    "            if method_sampling == 'QMC':\n",
    "                unif = qmc_1.gen_samples(self.m)\n",
    "            if method_sampling == 'RQMC':\n",
    "                unif = qmcpy.Halton(d+1).gen_samples(self.m)\n",
    "\n",
    "        # even number of parameters\n",
    "        else: \n",
    "            if method_sampling == 'MC':\n",
    "                unif = np.random.rand(self.m,self.d)\n",
    "            if method_sampling == 'QMC':\n",
    "                unif = qmc.gen_samples(self.m)\n",
    "            if method_sampling == 'RQMC':\n",
    "                unif = qmcpy.Halton(d).gen_samples(self.m)\n",
    "\n",
    "        # use generator  \n",
    "        x = self.gen_gaussian(unif,theta)\n",
    "\n",
    "        return x\n",
    "    \n",
    "    def MMD_approx(self,weights,kxy,kyy):\n",
    "        \"\"\"y_{i=1}^n iid from P_\\theta, x_{i=1}^m iid from Q\n",
    "        kxx is nxn, kyy is mxm and kxy is nxm\"\"\"\n",
    "        \n",
    "        # first sum\n",
    "        np.fill_diagonal(kyy, np.repeat(0,self.m)) # exclude k(y_i, y_i) (diagonal terms)\n",
    "        sum1 = np.sum(kyy)\n",
    "    \n",
    "        # second sum\n",
    "        sum2 = np.sum(kxy*weights)\n",
    "    \n",
    "        # third sum\n",
    "        np.fill_diagonal(self.kxx, np.repeat(0,self.n))\n",
    "        kxx = self.kxx*weights\n",
    "        sum3 = np.sum(kxx)\n",
    "    \n",
    "        return (1/(self.m*(self.m-1)))*sum1-(2/(self.m*self.n))*sum2+(1/(self.n*(self.n-1)))*sum3\n",
    "    \n",
    "    \n",
    "    def grad_MMD(self,weights,grad_g,k1yy,k1xy):\n",
    "        # y sample from p_theta, x data\n",
    "        # first sum\n",
    "        prod1 = np.squeeze(np.einsum('ilj,imjk->lmjk', grad_g, np.expand_dims(k1yy,axis=1)))\n",
    "        if prod1.ndim==2:\n",
    "            np.fill_diagonal(prod1[:,:], 0)\n",
    "            sum1 = np.sum(prod1)\n",
    "        else:\n",
    "            for i in range(self.p):\n",
    "                np.fill_diagonal(prod1[i,:,:], 0)\n",
    "            sum1 = np.einsum('ijk->i',prod1)\n",
    "\n",
    "        # second sum\n",
    "        k1xy[0,:,:] = k1xy[0,:,:]*weights\n",
    "        # \n",
    "        prod2 = np.squeeze(np.einsum('ilj,imjk->lmjk', grad_g, np.expand_dims(k1xy,axis=1)))\n",
    "        if prod2.ndim==2:\n",
    "            sum2 = np.sum(prod2)\n",
    "        else:\n",
    "            sum2 = np.einsum('ijk->i',prod2)\n",
    "    \n",
    "        return (2/(self.m*(self.m-1)))*sum1-(2/(self.n*self.m))*sum2\n",
    "\n",
    "\n",
    "    def minimise_MMD(self, data, weights, Nstep=2000, eta=0.1):\n",
    "        \"\"\"Gaussian kernel of parameter gamma=1\n",
    "        Minibatch size = sample size = n, number of iterations = Nstep = 10000\"\"\"\n",
    "        \"\"\"MMD minimzer between P^(j) for \\alpha=0 and P_\\theta using PSGD\"\"\"\n",
    "        theta = np.zeros(self.d) #np.mean(data)*np.ones(self.d)   # initialize with the MLE\n",
    "        t = 0\n",
    "        gradient = 100\n",
    "        gd_losses = []\n",
    "        gd_losses.append(0)\n",
    "        current_loss = 10\n",
    "        while t < Nstep: #and np.linalg.norm(current_loss - gd_losses[t-1]) > 10e-6: \n",
    "            sample = self.sample_gaussian('MC',theta)\n",
    "            kyy, k1yy, k2yy = k(sample,sample,self.l)\n",
    "            kxy, k1xy = k(sample,data,self.l)[0:2]    #kyx\n",
    "            current_loss = self.MMD_approx(weights,kxy,kyy)\n",
    "            gd_losses.append(current_loss)\n",
    "            grad_g = self.grad_gen_gaussian(theta)\n",
    "            \n",
    "            # approximate MMD gradient\n",
    "            if self.p == 1:\n",
    "                gradient = np.asmatrix(self.grad_MMD(weights,grad_g,k1yy,k1xy))\n",
    "            else:\n",
    "                gradient = self.grad_MMD(weights,grad_g,k1yy,k1xy)\n",
    "                \n",
    "            # approximate information metric\n",
    "            # pre-define noise for information metric\n",
    "            noise = [0, 1e-7, 1e-6, 1e-5, 1e-4, 1e-3, 1e-2, 1e-1, 1]\n",
    "            \n",
    "            if self.method_gd == 'NSGD':\n",
    "                g = self.g_approx(grad_g, k2yy)\n",
    "                # add noise if g can't be inverted\n",
    "                for j in range(9):\n",
    "                    check = True\n",
    "                    try:\n",
    "                        np.linalg.inv(g + np.eye(self.p)*noise[j])\n",
    "                    except np.linalg.LinAlgError:\n",
    "                        check = False\n",
    "                    if check:\n",
    "                        break\n",
    "                g = g + np.eye(self.p)*noise[j]\n",
    "            \n",
    "            # update theta according to optimization method\n",
    "            if self.method_gd == 'SGD':\n",
    "                theta = theta-eta*gradient\n",
    "            else:\n",
    "                theta = theta-eta*np.linalg.inv(g)@gradient\n",
    "            \n",
    "            t += 1\n",
    "        #print(\"stopped after\", t, \"steps\")\n",
    "        loss = self.MMD_approx(weights,kxy,kyy)\n",
    "        return theta, loss, gd_losses\n",
    "        \n",
    "    def WLL(self, data, weights):\n",
    "        \"\"\"Get weighted log likelihood minimizer, for gaussian model\"\"\"\n",
    "        theta = 0\n",
    "        for i in range(self.n):\n",
    "            theta += weights[i]*data[i] \n",
    "        return theta"
   ]
  },
  {
   "cell_type": "markdown",
   "metadata": {},
   "source": [
    "### Inference"
   ]
  },
  {
   "cell_type": "code",
   "execution_count": 14,
   "metadata": {},
   "outputs": [
    {
     "name": "stdout",
     "output_type": "stream",
     "text": [
      "-----Running for 0 % of outliers-----\n",
      "Drawing samples...\n"
     ]
    },
    {
     "data": {
      "application/vnd.jupyter.widget-view+json": {
       "model_id": "387565ebcd0d48029a4f891e78f0f47d",
       "version_major": 2,
       "version_minor": 0
      },
      "text/plain": [
       "HBox(children=(IntProgress(value=0, max=200), HTML(value='')))"
      ]
     },
     "metadata": {},
     "output_type": "display_data"
    },
    {
     "name": "stderr",
     "output_type": "stream",
     "text": [
      "Process ForkPoolWorker-10:\n",
      "Process ForkPoolWorker-3:\n",
      "Process ForkPoolWorker-1:\n",
      "Process ForkPoolWorker-6:\n",
      "Process ForkPoolWorker-2:\n",
      "Process ForkPoolWorker-5:\n",
      "Process ForkPoolWorker-7:\n",
      "Process ForkPoolWorker-12:\n",
      "Process ForkPoolWorker-8:\n",
      "Process ForkPoolWorker-4:\n",
      "Process ForkPoolWorker-11:\n",
      "Process ForkPoolWorker-9:\n",
      "Traceback (most recent call last):\n",
      "Traceback (most recent call last):\n",
      "Traceback (most recent call last):\n",
      "Traceback (most recent call last):\n",
      "Traceback (most recent call last):\n",
      "Traceback (most recent call last):\n",
      "  File \"/opt/anaconda3/lib/python3.7/multiprocessing/process.py\", line 297, in _bootstrap\n",
      "    self.run()\n",
      "  File \"/opt/anaconda3/lib/python3.7/multiprocessing/process.py\", line 297, in _bootstrap\n",
      "    self.run()\n",
      "Traceback (most recent call last):\n",
      "Traceback (most recent call last):\n",
      "  File \"/opt/anaconda3/lib/python3.7/multiprocessing/process.py\", line 297, in _bootstrap\n",
      "    self.run()\n",
      "Traceback (most recent call last):\n",
      "Traceback (most recent call last):\n",
      "Traceback (most recent call last):\n",
      "  File \"/opt/anaconda3/lib/python3.7/multiprocessing/process.py\", line 297, in _bootstrap\n",
      "    self.run()\n",
      "  File \"/opt/anaconda3/lib/python3.7/multiprocessing/process.py\", line 297, in _bootstrap\n",
      "    self.run()\n",
      "Traceback (most recent call last):\n",
      "  File \"/opt/anaconda3/lib/python3.7/multiprocessing/process.py\", line 297, in _bootstrap\n",
      "    self.run()\n",
      "  File \"/opt/anaconda3/lib/python3.7/multiprocessing/process.py\", line 297, in _bootstrap\n",
      "    self.run()\n",
      "  File \"/opt/anaconda3/lib/python3.7/multiprocessing/process.py\", line 99, in run\n",
      "    self._target(*self._args, **self._kwargs)\n",
      "  File \"/opt/anaconda3/lib/python3.7/multiprocessing/process.py\", line 297, in _bootstrap\n",
      "    self.run()\n",
      "  File \"/opt/anaconda3/lib/python3.7/multiprocessing/process.py\", line 99, in run\n",
      "    self._target(*self._args, **self._kwargs)\n",
      "  File \"/opt/anaconda3/lib/python3.7/multiprocessing/process.py\", line 99, in run\n",
      "    self._target(*self._args, **self._kwargs)\n",
      "  File \"/opt/anaconda3/lib/python3.7/multiprocessing/process.py\", line 297, in _bootstrap\n",
      "    self.run()\n",
      "  File \"/opt/anaconda3/lib/python3.7/multiprocessing/process.py\", line 297, in _bootstrap\n",
      "    self.run()\n",
      "  File \"/opt/anaconda3/lib/python3.7/multiprocessing/process.py\", line 99, in run\n",
      "    self._target(*self._args, **self._kwargs)\n",
      "  File \"/opt/anaconda3/lib/python3.7/multiprocessing/process.py\", line 99, in run\n",
      "    self._target(*self._args, **self._kwargs)\n",
      "  File \"/opt/anaconda3/lib/python3.7/multiprocessing/pool.py\", line 121, in worker\n",
      "    result = (True, func(*args, **kwds))\n",
      "  File \"/opt/anaconda3/lib/python3.7/multiprocessing/process.py\", line 99, in run\n",
      "    self._target(*self._args, **self._kwargs)\n",
      "  File \"/opt/anaconda3/lib/python3.7/multiprocessing/process.py\", line 99, in run\n",
      "    self._target(*self._args, **self._kwargs)\n",
      "  File \"/opt/anaconda3/lib/python3.7/multiprocessing/process.py\", line 99, in run\n",
      "    self._target(*self._args, **self._kwargs)\n",
      "  File \"/opt/anaconda3/lib/python3.7/multiprocessing/pool.py\", line 121, in worker\n",
      "    result = (True, func(*args, **kwds))\n",
      "  File \"/opt/anaconda3/lib/python3.7/multiprocessing/process.py\", line 297, in _bootstrap\n",
      "    self.run()\n",
      "  File \"/opt/anaconda3/lib/python3.7/multiprocessing/process.py\", line 297, in _bootstrap\n",
      "    self.run()\n",
      "  File \"/opt/anaconda3/lib/python3.7/multiprocessing/process.py\", line 99, in run\n",
      "    self._target(*self._args, **self._kwargs)\n",
      "  File \"/opt/anaconda3/lib/python3.7/multiprocessing/process.py\", line 99, in run\n",
      "    self._target(*self._args, **self._kwargs)\n",
      "  File \"/opt/anaconda3/lib/python3.7/multiprocessing/pool.py\", line 121, in worker\n",
      "    result = (True, func(*args, **kwds))\n",
      "  File \"/opt/anaconda3/lib/python3.7/multiprocessing/pool.py\", line 121, in worker\n",
      "    result = (True, func(*args, **kwds))\n",
      "  File \"/opt/anaconda3/lib/python3.7/multiprocessing/pool.py\", line 121, in worker\n",
      "    result = (True, func(*args, **kwds))\n",
      "  File \"/opt/anaconda3/lib/python3.7/multiprocessing/pool.py\", line 121, in worker\n",
      "    result = (True, func(*args, **kwds))\n",
      "  File \"/opt/anaconda3/lib/python3.7/multiprocessing/pool.py\", line 121, in worker\n",
      "    result = (True, func(*args, **kwds))\n",
      "  File \"/opt/anaconda3/lib/python3.7/multiprocessing/pool.py\", line 121, in worker\n",
      "    result = (True, func(*args, **kwds))\n",
      "  File \"/opt/anaconda3/lib/python3.7/multiprocessing/pool.py\", line 44, in mapstar\n",
      "    return list(map(*args))\n",
      "  File \"/opt/anaconda3/lib/python3.7/multiprocessing/pool.py\", line 44, in mapstar\n",
      "    return list(map(*args))\n",
      "  File \"/opt/anaconda3/lib/python3.7/multiprocessing/process.py\", line 99, in run\n",
      "    self._target(*self._args, **self._kwargs)\n",
      "  File \"/opt/anaconda3/lib/python3.7/multiprocessing/pool.py\", line 121, in worker\n",
      "    result = (True, func(*args, **kwds))\n",
      "  File \"/opt/anaconda3/lib/python3.7/multiprocessing/process.py\", line 99, in run\n",
      "    self._target(*self._args, **self._kwargs)\n",
      "  File \"/opt/anaconda3/lib/python3.7/multiprocessing/pool.py\", line 44, in mapstar\n",
      "    return list(map(*args))\n",
      "  File \"/opt/anaconda3/lib/python3.7/multiprocessing/pool.py\", line 121, in worker\n",
      "    result = (True, func(*args, **kwds))\n",
      "  File \"/opt/anaconda3/lib/python3.7/multiprocessing/pool.py\", line 44, in mapstar\n",
      "    return list(map(*args))\n",
      "  File \"/opt/anaconda3/lib/python3.7/multiprocessing/pool.py\", line 44, in mapstar\n",
      "    return list(map(*args))\n",
      "  File \"/opt/anaconda3/lib/python3.7/multiprocessing/pool.py\", line 44, in mapstar\n",
      "    return list(map(*args))\n",
      "  File \"<ipython-input-13-cfeaa37a93d6>\", line 28, in draw_single_sample\n",
      "    theta_j, loss_j, gd_losses_j = self.minimise_MMD(self.X, weights)\n",
      "  File \"/opt/anaconda3/lib/python3.7/multiprocessing/pool.py\", line 44, in mapstar\n",
      "    return list(map(*args))\n",
      "  File \"/opt/anaconda3/lib/python3.7/multiprocessing/pool.py\", line 44, in mapstar\n",
      "    return list(map(*args))\n",
      "  File \"<ipython-input-13-cfeaa37a93d6>\", line 28, in draw_single_sample\n",
      "    theta_j, loss_j, gd_losses_j = self.minimise_MMD(self.X, weights)\n",
      "  File \"/opt/anaconda3/lib/python3.7/multiprocessing/pool.py\", line 121, in worker\n",
      "    result = (True, func(*args, **kwds))\n",
      "  File \"/opt/anaconda3/lib/python3.7/multiprocessing/pool.py\", line 44, in mapstar\n",
      "    return list(map(*args))\n",
      "  File \"/opt/anaconda3/lib/python3.7/multiprocessing/pool.py\", line 121, in worker\n",
      "    result = (True, func(*args, **kwds))\n",
      "  File \"/opt/anaconda3/lib/python3.7/multiprocessing/pool.py\", line 44, in mapstar\n",
      "    return list(map(*args))\n",
      "  File \"<ipython-input-13-cfeaa37a93d6>\", line 28, in draw_single_sample\n",
      "    theta_j, loss_j, gd_losses_j = self.minimise_MMD(self.X, weights)\n",
      "  File \"<ipython-input-13-cfeaa37a93d6>\", line 28, in draw_single_sample\n",
      "    theta_j, loss_j, gd_losses_j = self.minimise_MMD(self.X, weights)\n",
      "  File \"<ipython-input-13-cfeaa37a93d6>\", line 28, in draw_single_sample\n",
      "    theta_j, loss_j, gd_losses_j = self.minimise_MMD(self.X, weights)\n",
      "  File \"<ipython-input-13-cfeaa37a93d6>\", line 182, in minimise_MMD\n",
      "    kyy, k1yy, k2yy = k(sample,sample,self.l)\n",
      "  File \"<ipython-input-13-cfeaa37a93d6>\", line 28, in draw_single_sample\n",
      "    theta_j, loss_j, gd_losses_j = self.minimise_MMD(self.X, weights)\n",
      "  File \"<ipython-input-13-cfeaa37a93d6>\", line 28, in draw_single_sample\n",
      "    theta_j, loss_j, gd_losses_j = self.minimise_MMD(self.X, weights)\n",
      "  File \"/opt/anaconda3/lib/python3.7/multiprocessing/pool.py\", line 44, in mapstar\n",
      "    return list(map(*args))\n",
      "  File \"<ipython-input-13-cfeaa37a93d6>\", line 28, in draw_single_sample\n",
      "    theta_j, loss_j, gd_losses_j = self.minimise_MMD(self.X, weights)\n",
      "  File \"<ipython-input-13-cfeaa37a93d6>\", line 183, in minimise_MMD\n",
      "    kxy, k1xy = k(sample,data,self.l)[0:2]    #kyx\n",
      "  File \"/opt/anaconda3/lib/python3.7/multiprocessing/pool.py\", line 44, in mapstar\n",
      "    return list(map(*args))\n",
      "  File \"<ipython-input-13-cfeaa37a93d6>\", line 28, in draw_single_sample\n",
      "    theta_j, loss_j, gd_losses_j = self.minimise_MMD(self.X, weights)\n",
      "  File \"<ipython-input-13-cfeaa37a93d6>\", line 184, in minimise_MMD\n",
      "    current_loss = self.MMD_approx(weights,kxy,kyy)\n",
      "  File \"<ipython-input-13-cfeaa37a93d6>\", line 28, in draw_single_sample\n",
      "    theta_j, loss_j, gd_losses_j = self.minimise_MMD(self.X, weights)\n",
      "  File \"<ipython-input-13-cfeaa37a93d6>\", line 183, in minimise_MMD\n",
      "    kxy, k1xy = k(sample,data,self.l)[0:2]    #kyx\n"
     ]
    },
    {
     "name": "stderr",
     "output_type": "stream",
     "text": [
      "  File \"<ipython-input-5-b75b7e28fe04>\", line 23, in k\n",
      "    grad_21 = (1/l**2)*(np.expand_dims(np.expand_dims(np.eye(d), axis = 2), axis = 3)-np.einsum('ijk,ljk->iljk',np.squeeze(np.subtract.outer(x,y)[:,[dims],:,[dims]], axis=0),np.squeeze(np.subtract.outer(x,y)[:,[dims],:,[dims]], axis=0))*(1/l**2))*kernel\n",
      "  File \"<ipython-input-13-cfeaa37a93d6>\", line 183, in minimise_MMD\n",
      "    kxy, k1xy = k(sample,data,self.l)[0:2]    #kyx\n",
      "  File \"<ipython-input-13-cfeaa37a93d6>\", line 190, in minimise_MMD\n",
      "    gradient = np.asmatrix(self.grad_MMD(weights,grad_g,k1yy,k1xy))\n",
      "  File \"<ipython-input-13-cfeaa37a93d6>\", line 28, in draw_single_sample\n",
      "    theta_j, loss_j, gd_losses_j = self.minimise_MMD(self.X, weights)\n",
      "  File \"<ipython-input-13-cfeaa37a93d6>\", line 184, in minimise_MMD\n",
      "    current_loss = self.MMD_approx(weights,kxy,kyy)\n",
      "  File \"<ipython-input-13-cfeaa37a93d6>\", line 183, in minimise_MMD\n",
      "    kxy, k1xy = k(sample,data,self.l)[0:2]    #kyx\n",
      "  File \"<ipython-input-13-cfeaa37a93d6>\", line 28, in draw_single_sample\n",
      "    theta_j, loss_j, gd_losses_j = self.minimise_MMD(self.X, weights)\n",
      "  File \"<ipython-input-5-b75b7e28fe04>\", line 23, in k\n",
      "    grad_21 = (1/l**2)*(np.expand_dims(np.expand_dims(np.eye(d), axis = 2), axis = 3)-np.einsum('ijk,ljk->iljk',np.squeeze(np.subtract.outer(x,y)[:,[dims],:,[dims]], axis=0),np.squeeze(np.subtract.outer(x,y)[:,[dims],:,[dims]], axis=0))*(1/l**2))*kernel\n",
      "  File \"<ipython-input-13-cfeaa37a93d6>\", line 190, in minimise_MMD\n",
      "    gradient = np.asmatrix(self.grad_MMD(weights,grad_g,k1yy,k1xy))\n",
      "  File \"<ipython-input-13-cfeaa37a93d6>\", line 140, in MMD_approx\n",
      "    kxx = self.kxx*weights\n",
      "  File \"<ipython-input-5-b75b7e28fe04>\", line 23, in k\n",
      "    grad_21 = (1/l**2)*(np.expand_dims(np.expand_dims(np.eye(d), axis = 2), axis = 3)-np.einsum('ijk,ljk->iljk',np.squeeze(np.subtract.outer(x,y)[:,[dims],:,[dims]], axis=0),np.squeeze(np.subtract.outer(x,y)[:,[dims],:,[dims]], axis=0))*(1/l**2))*kernel\n",
      "  File \"<ipython-input-13-cfeaa37a93d6>\", line 183, in minimise_MMD\n",
      "    kxy, k1xy = k(sample,data,self.l)[0:2]    #kyx\n",
      "  File \"<ipython-input-5-b75b7e28fe04>\", line 23, in k\n",
      "    grad_21 = (1/l**2)*(np.expand_dims(np.expand_dims(np.eye(d), axis = 2), axis = 3)-np.einsum('ijk,ljk->iljk',np.squeeze(np.subtract.outer(x,y)[:,[dims],:,[dims]], axis=0),np.squeeze(np.subtract.outer(x,y)[:,[dims],:,[dims]], axis=0))*(1/l**2))*kernel\n",
      "KeyboardInterrupt\n",
      "  File \"<ipython-input-13-cfeaa37a93d6>\", line 183, in minimise_MMD\n",
      "    kxy, k1xy = k(sample,data,self.l)[0:2]    #kyx\n",
      "  File \"<ipython-input-13-cfeaa37a93d6>\", line 161, in grad_MMD\n",
      "    prod2 = np.squeeze(np.einsum('ilj,imjk->lmjk', grad_g, np.expand_dims(k1xy,axis=1)))\n",
      "KeyboardInterrupt\n",
      "  File \"<ipython-input-5-b75b7e28fe04>\", line 23, in k\n",
      "    grad_21 = (1/l**2)*(np.expand_dims(np.expand_dims(np.eye(d), axis = 2), axis = 3)-np.einsum('ijk,ljk->iljk',np.squeeze(np.subtract.outer(x,y)[:,[dims],:,[dims]], axis=0),np.squeeze(np.subtract.outer(x,y)[:,[dims],:,[dims]], axis=0))*(1/l**2))*kernel\n",
      "  File \"<ipython-input-13-cfeaa37a93d6>\", line 183, in minimise_MMD\n",
      "    kxy, k1xy = k(sample,data,self.l)[0:2]    #kyx\n",
      "KeyboardInterrupt\n",
      "  File \"<ipython-input-13-cfeaa37a93d6>\", line 161, in grad_MMD\n",
      "    prod2 = np.squeeze(np.einsum('ilj,imjk->lmjk', grad_g, np.expand_dims(k1xy,axis=1)))\n",
      "KeyboardInterrupt\n",
      "  File \"<__array_function__ internals>\", line 6, in einsum\n",
      "  File \"<ipython-input-5-b75b7e28fe04>\", line 23, in k\n",
      "    grad_21 = (1/l**2)*(np.expand_dims(np.expand_dims(np.eye(d), axis = 2), axis = 3)-np.einsum('ijk,ljk->iljk',np.squeeze(np.subtract.outer(x,y)[:,[dims],:,[dims]], axis=0),np.squeeze(np.subtract.outer(x,y)[:,[dims],:,[dims]], axis=0))*(1/l**2))*kernel\n",
      "KeyboardInterrupt\n",
      "  File \"<ipython-input-5-b75b7e28fe04>\", line 12, in k\n",
      "    kernel = np.exp(-(1/(2*l**2))*distance.cdist(x,y,'sqeuclidean'))\n",
      "  File \"<__array_function__ internals>\", line 6, in einsum\n",
      "KeyboardInterrupt\n",
      "  File \"<__array_function__ internals>\", line 6, in einsum\n",
      "  File \"<ipython-input-5-b75b7e28fe04>\", line 12, in k\n",
      "    kernel = np.exp(-(1/(2*l**2))*distance.cdist(x,y,'sqeuclidean'))\n",
      "  File \"/opt/anaconda3/lib/python3.7/site-packages/scipy/spatial/distance.py\", line 2780, in cdist\n",
      "    cdist_fn(XA, XB, dm, **kwargs)\n",
      "  File \"<__array_function__ internals>\", line 6, in einsum\n",
      "  File \"/opt/anaconda3/lib/python3.7/site-packages/numpy/core/einsumfunc.py\", line 1361, in einsum\n",
      "    return c_einsum(*operands, **kwargs)\n",
      "  File \"/opt/anaconda3/lib/python3.7/site-packages/numpy/core/einsumfunc.py\", line 1361, in einsum\n",
      "    return c_einsum(*operands, **kwargs)\n",
      "  File \"/opt/anaconda3/lib/python3.7/site-packages/numpy/core/einsumfunc.py\", line 1361, in einsum\n",
      "    return c_einsum(*operands, **kwargs)\n",
      "  File \"/opt/anaconda3/lib/python3.7/site-packages/scipy/spatial/distance.py\", line 2780, in cdist\n",
      "    cdist_fn(XA, XB, dm, **kwargs)\n",
      "KeyboardInterrupt\n",
      "  File \"/opt/anaconda3/lib/python3.7/site-packages/numpy/core/einsumfunc.py\", line 1361, in einsum\n",
      "    return c_einsum(*operands, **kwargs)\n",
      "KeyboardInterrupt\n",
      "KeyboardInterrupt\n",
      "KeyboardInterrupt\n",
      "KeyboardInterrupt\n",
      "KeyboardInterrupt\n"
     ]
    },
    {
     "ename": "KeyboardInterrupt",
     "evalue": "",
     "output_type": "error",
     "traceback": [
      "\u001b[0;31m---------------------------------------------------------------------------\u001b[0m",
      "\u001b[0;31mKeyboardInterrupt\u001b[0m                         Traceback (most recent call last)",
      "\u001b[0;32m<ipython-input-14-c37c4ef55d00>\u001b[0m in \u001b[0;36m<module>\u001b[0;34m\u001b[0m\n\u001b[1;32m     16\u001b[0m     \u001b[0mX\u001b[0m \u001b[0;34m=\u001b[0m \u001b[0msample_gaussian_outl\u001b[0m\u001b[0;34m(\u001b[0m\u001b[0;34m'MC'\u001b[0m\u001b[0;34m,\u001b[0m\u001b[0mn\u001b[0m\u001b[0;34m,\u001b[0m\u001b[0md\u001b[0m\u001b[0;34m,\u001b[0m\u001b[0ms\u001b[0m\u001b[0;34m,\u001b[0m\u001b[0mtheta_star\u001b[0m\u001b[0;34m,\u001b[0m\u001b[0mn_cont\u001b[0m\u001b[0;34m=\u001b[0m\u001b[0mn_cont\u001b[0m\u001b[0;34m)\u001b[0m\u001b[0;34m\u001b[0m\u001b[0;34m\u001b[0m\u001b[0m\n\u001b[1;32m     17\u001b[0m     \u001b[0mnpl\u001b[0m \u001b[0;34m=\u001b[0m \u001b[0mNPL\u001b[0m\u001b[0;34m(\u001b[0m\u001b[0mX\u001b[0m\u001b[0;34m,\u001b[0m\u001b[0mB\u001b[0m\u001b[0;34m,\u001b[0m\u001b[0mm\u001b[0m\u001b[0;34m,\u001b[0m\u001b[0ms\u001b[0m\u001b[0;34m,\u001b[0m\u001b[0md\u001b[0m\u001b[0;34m,\u001b[0m\u001b[0ml\u001b[0m\u001b[0;34m,\u001b[0m\u001b[0mmethod_gd\u001b[0m \u001b[0;34m=\u001b[0m \u001b[0mmethod\u001b[0m\u001b[0;34m)\u001b[0m\u001b[0;34m\u001b[0m\u001b[0;34m\u001b[0m\u001b[0m\n\u001b[0;32m---> 18\u001b[0;31m     \u001b[0mnpl\u001b[0m\u001b[0;34m.\u001b[0m\u001b[0mdraw_samples\u001b[0m\u001b[0;34m(\u001b[0m\u001b[0mX\u001b[0m\u001b[0;34m)\u001b[0m\u001b[0;34m\u001b[0m\u001b[0;34m\u001b[0m\u001b[0m\n\u001b[0m\u001b[1;32m     19\u001b[0m     \u001b[0msample\u001b[0m \u001b[0;34m=\u001b[0m \u001b[0mnpl\u001b[0m\u001b[0;34m.\u001b[0m\u001b[0msample\u001b[0m\u001b[0;34m\u001b[0m\u001b[0;34m\u001b[0m\u001b[0m\n\u001b[1;32m     20\u001b[0m     \u001b[0mwll_sample\u001b[0m \u001b[0;34m=\u001b[0m \u001b[0mnpl\u001b[0m\u001b[0;34m.\u001b[0m\u001b[0mwll\u001b[0m\u001b[0;34m\u001b[0m\u001b[0;34m\u001b[0m\u001b[0m\n",
      "\u001b[0;32m<ipython-input-13-cfeaa37a93d6>\u001b[0m in \u001b[0;36mdraw_samples\u001b[0;34m(self, seed)\u001b[0m\n\u001b[1;32m     45\u001b[0m         \u001b[0;32mif\u001b[0m \u001b[0m__name__\u001b[0m \u001b[0;34m==\u001b[0m \u001b[0;34m'__main__'\u001b[0m\u001b[0;34m:\u001b[0m\u001b[0;34m\u001b[0m\u001b[0;34m\u001b[0m\u001b[0m\n\u001b[1;32m     46\u001b[0m             \u001b[0mpool\u001b[0m \u001b[0;34m=\u001b[0m \u001b[0mPool\u001b[0m\u001b[0;34m(\u001b[0m\u001b[0;34m)\u001b[0m               \u001b[0;31m# Create a multiprocessing Pool - defualt arg. is max number of n_cores\u001b[0m\u001b[0;34m\u001b[0m\u001b[0;34m\u001b[0m\u001b[0m\n\u001b[0;32m---> 47\u001b[0;31m             \u001b[0mtemp\u001b[0m \u001b[0;34m=\u001b[0m \u001b[0mpool\u001b[0m\u001b[0;34m.\u001b[0m\u001b[0mmap\u001b[0m\u001b[0;34m(\u001b[0m\u001b[0mself\u001b[0m\u001b[0;34m.\u001b[0m\u001b[0mdraw_single_sample\u001b[0m\u001b[0;34m,\u001b[0m \u001b[0mtqdm\u001b[0m\u001b[0;34m(\u001b[0m\u001b[0mrange\u001b[0m\u001b[0;34m(\u001b[0m\u001b[0mself\u001b[0m\u001b[0;34m.\u001b[0m\u001b[0mB\u001b[0m\u001b[0;34m)\u001b[0m\u001b[0;34m)\u001b[0m\u001b[0;34m)\u001b[0m\u001b[0;34m\u001b[0m\u001b[0;34m\u001b[0m\u001b[0m\n\u001b[0m\u001b[1;32m     48\u001b[0m \u001b[0;34m\u001b[0m\u001b[0m\n\u001b[1;32m     49\u001b[0m         \u001b[0;32mfor\u001b[0m \u001b[0mi\u001b[0m \u001b[0;32min\u001b[0m \u001b[0mrange\u001b[0m\u001b[0;34m(\u001b[0m\u001b[0mself\u001b[0m\u001b[0;34m.\u001b[0m\u001b[0mB\u001b[0m\u001b[0;34m)\u001b[0m\u001b[0;34m:\u001b[0m\u001b[0;34m\u001b[0m\u001b[0;34m\u001b[0m\u001b[0m\n",
      "\u001b[0;32m/opt/anaconda3/lib/python3.7/multiprocessing/pool.py\u001b[0m in \u001b[0;36mmap\u001b[0;34m(self, func, iterable, chunksize)\u001b[0m\n\u001b[1;32m    266\u001b[0m         \u001b[0;32min\u001b[0m \u001b[0ma\u001b[0m \u001b[0mlist\u001b[0m \u001b[0mthat\u001b[0m \u001b[0;32mis\u001b[0m \u001b[0mreturned\u001b[0m\u001b[0;34m.\u001b[0m\u001b[0;34m\u001b[0m\u001b[0;34m\u001b[0m\u001b[0m\n\u001b[1;32m    267\u001b[0m         '''\n\u001b[0;32m--> 268\u001b[0;31m         \u001b[0;32mreturn\u001b[0m \u001b[0mself\u001b[0m\u001b[0;34m.\u001b[0m\u001b[0m_map_async\u001b[0m\u001b[0;34m(\u001b[0m\u001b[0mfunc\u001b[0m\u001b[0;34m,\u001b[0m \u001b[0miterable\u001b[0m\u001b[0;34m,\u001b[0m \u001b[0mmapstar\u001b[0m\u001b[0;34m,\u001b[0m \u001b[0mchunksize\u001b[0m\u001b[0;34m)\u001b[0m\u001b[0;34m.\u001b[0m\u001b[0mget\u001b[0m\u001b[0;34m(\u001b[0m\u001b[0;34m)\u001b[0m\u001b[0;34m\u001b[0m\u001b[0;34m\u001b[0m\u001b[0m\n\u001b[0m\u001b[1;32m    269\u001b[0m \u001b[0;34m\u001b[0m\u001b[0m\n\u001b[1;32m    270\u001b[0m     \u001b[0;32mdef\u001b[0m \u001b[0mstarmap\u001b[0m\u001b[0;34m(\u001b[0m\u001b[0mself\u001b[0m\u001b[0;34m,\u001b[0m \u001b[0mfunc\u001b[0m\u001b[0;34m,\u001b[0m \u001b[0miterable\u001b[0m\u001b[0;34m,\u001b[0m \u001b[0mchunksize\u001b[0m\u001b[0;34m=\u001b[0m\u001b[0;32mNone\u001b[0m\u001b[0;34m)\u001b[0m\u001b[0;34m:\u001b[0m\u001b[0;34m\u001b[0m\u001b[0;34m\u001b[0m\u001b[0m\n",
      "\u001b[0;32m/opt/anaconda3/lib/python3.7/multiprocessing/pool.py\u001b[0m in \u001b[0;36mget\u001b[0;34m(self, timeout)\u001b[0m\n\u001b[1;32m    649\u001b[0m \u001b[0;34m\u001b[0m\u001b[0m\n\u001b[1;32m    650\u001b[0m     \u001b[0;32mdef\u001b[0m \u001b[0mget\u001b[0m\u001b[0;34m(\u001b[0m\u001b[0mself\u001b[0m\u001b[0;34m,\u001b[0m \u001b[0mtimeout\u001b[0m\u001b[0;34m=\u001b[0m\u001b[0;32mNone\u001b[0m\u001b[0;34m)\u001b[0m\u001b[0;34m:\u001b[0m\u001b[0;34m\u001b[0m\u001b[0;34m\u001b[0m\u001b[0m\n\u001b[0;32m--> 651\u001b[0;31m         \u001b[0mself\u001b[0m\u001b[0;34m.\u001b[0m\u001b[0mwait\u001b[0m\u001b[0;34m(\u001b[0m\u001b[0mtimeout\u001b[0m\u001b[0;34m)\u001b[0m\u001b[0;34m\u001b[0m\u001b[0;34m\u001b[0m\u001b[0m\n\u001b[0m\u001b[1;32m    652\u001b[0m         \u001b[0;32mif\u001b[0m \u001b[0;32mnot\u001b[0m \u001b[0mself\u001b[0m\u001b[0;34m.\u001b[0m\u001b[0mready\u001b[0m\u001b[0;34m(\u001b[0m\u001b[0;34m)\u001b[0m\u001b[0;34m:\u001b[0m\u001b[0;34m\u001b[0m\u001b[0;34m\u001b[0m\u001b[0m\n\u001b[1;32m    653\u001b[0m             \u001b[0;32mraise\u001b[0m \u001b[0mTimeoutError\u001b[0m\u001b[0;34m\u001b[0m\u001b[0;34m\u001b[0m\u001b[0m\n",
      "\u001b[0;32m/opt/anaconda3/lib/python3.7/multiprocessing/pool.py\u001b[0m in \u001b[0;36mwait\u001b[0;34m(self, timeout)\u001b[0m\n\u001b[1;32m    646\u001b[0m \u001b[0;34m\u001b[0m\u001b[0m\n\u001b[1;32m    647\u001b[0m     \u001b[0;32mdef\u001b[0m \u001b[0mwait\u001b[0m\u001b[0;34m(\u001b[0m\u001b[0mself\u001b[0m\u001b[0;34m,\u001b[0m \u001b[0mtimeout\u001b[0m\u001b[0;34m=\u001b[0m\u001b[0;32mNone\u001b[0m\u001b[0;34m)\u001b[0m\u001b[0;34m:\u001b[0m\u001b[0;34m\u001b[0m\u001b[0;34m\u001b[0m\u001b[0m\n\u001b[0;32m--> 648\u001b[0;31m         \u001b[0mself\u001b[0m\u001b[0;34m.\u001b[0m\u001b[0m_event\u001b[0m\u001b[0;34m.\u001b[0m\u001b[0mwait\u001b[0m\u001b[0;34m(\u001b[0m\u001b[0mtimeout\u001b[0m\u001b[0;34m)\u001b[0m\u001b[0;34m\u001b[0m\u001b[0;34m\u001b[0m\u001b[0m\n\u001b[0m\u001b[1;32m    649\u001b[0m \u001b[0;34m\u001b[0m\u001b[0m\n\u001b[1;32m    650\u001b[0m     \u001b[0;32mdef\u001b[0m \u001b[0mget\u001b[0m\u001b[0;34m(\u001b[0m\u001b[0mself\u001b[0m\u001b[0;34m,\u001b[0m \u001b[0mtimeout\u001b[0m\u001b[0;34m=\u001b[0m\u001b[0;32mNone\u001b[0m\u001b[0;34m)\u001b[0m\u001b[0;34m:\u001b[0m\u001b[0;34m\u001b[0m\u001b[0;34m\u001b[0m\u001b[0m\n",
      "\u001b[0;32m/opt/anaconda3/lib/python3.7/threading.py\u001b[0m in \u001b[0;36mwait\u001b[0;34m(self, timeout)\u001b[0m\n\u001b[1;32m    550\u001b[0m             \u001b[0msignaled\u001b[0m \u001b[0;34m=\u001b[0m \u001b[0mself\u001b[0m\u001b[0;34m.\u001b[0m\u001b[0m_flag\u001b[0m\u001b[0;34m\u001b[0m\u001b[0;34m\u001b[0m\u001b[0m\n\u001b[1;32m    551\u001b[0m             \u001b[0;32mif\u001b[0m \u001b[0;32mnot\u001b[0m \u001b[0msignaled\u001b[0m\u001b[0;34m:\u001b[0m\u001b[0;34m\u001b[0m\u001b[0;34m\u001b[0m\u001b[0m\n\u001b[0;32m--> 552\u001b[0;31m                 \u001b[0msignaled\u001b[0m \u001b[0;34m=\u001b[0m \u001b[0mself\u001b[0m\u001b[0;34m.\u001b[0m\u001b[0m_cond\u001b[0m\u001b[0;34m.\u001b[0m\u001b[0mwait\u001b[0m\u001b[0;34m(\u001b[0m\u001b[0mtimeout\u001b[0m\u001b[0;34m)\u001b[0m\u001b[0;34m\u001b[0m\u001b[0;34m\u001b[0m\u001b[0m\n\u001b[0m\u001b[1;32m    553\u001b[0m             \u001b[0;32mreturn\u001b[0m \u001b[0msignaled\u001b[0m\u001b[0;34m\u001b[0m\u001b[0;34m\u001b[0m\u001b[0m\n\u001b[1;32m    554\u001b[0m \u001b[0;34m\u001b[0m\u001b[0m\n",
      "\u001b[0;32m/opt/anaconda3/lib/python3.7/threading.py\u001b[0m in \u001b[0;36mwait\u001b[0;34m(self, timeout)\u001b[0m\n\u001b[1;32m    294\u001b[0m         \u001b[0;32mtry\u001b[0m\u001b[0;34m:\u001b[0m    \u001b[0;31m# restore state no matter what (e.g., KeyboardInterrupt)\u001b[0m\u001b[0;34m\u001b[0m\u001b[0;34m\u001b[0m\u001b[0m\n\u001b[1;32m    295\u001b[0m             \u001b[0;32mif\u001b[0m \u001b[0mtimeout\u001b[0m \u001b[0;32mis\u001b[0m \u001b[0;32mNone\u001b[0m\u001b[0;34m:\u001b[0m\u001b[0;34m\u001b[0m\u001b[0;34m\u001b[0m\u001b[0m\n\u001b[0;32m--> 296\u001b[0;31m                 \u001b[0mwaiter\u001b[0m\u001b[0;34m.\u001b[0m\u001b[0macquire\u001b[0m\u001b[0;34m(\u001b[0m\u001b[0;34m)\u001b[0m\u001b[0;34m\u001b[0m\u001b[0;34m\u001b[0m\u001b[0m\n\u001b[0m\u001b[1;32m    297\u001b[0m                 \u001b[0mgotit\u001b[0m \u001b[0;34m=\u001b[0m \u001b[0;32mTrue\u001b[0m\u001b[0;34m\u001b[0m\u001b[0;34m\u001b[0m\u001b[0m\n\u001b[1;32m    298\u001b[0m             \u001b[0;32melse\u001b[0m\u001b[0;34m:\u001b[0m\u001b[0;34m\u001b[0m\u001b[0;34m\u001b[0m\u001b[0m\n",
      "\u001b[0;31mKeyboardInterrupt\u001b[0m: "
     ]
    }
   ],
   "source": [
    "start_time = time.time()\n",
    "n = 2**11\n",
    "m = 2**9\n",
    "d = 1\n",
    "s = 1\n",
    "l = -1\n",
    "theta_star = np.ones(d)\n",
    "#N = 1\n",
    "B = 200\n",
    "outl = 1\n",
    "method = 'SGD'\n",
    "results = np.zeros((3,outl)) # each of the rows are MMD, MLE, WLL resp.\n",
    "for n_cont in np.arange(outl):\n",
    "    #for i in range(N):\n",
    "    print(\"-----Running for\", n_cont*5, \"% of outliers-----\")\n",
    "    X = sample_gaussian_outl('MC',n,d,s,theta_star,n_cont=n_cont)\n",
    "    npl = NPL(X,B,m,s,d,l,method_gd = method)\n",
    "    npl.draw_samples(X)\n",
    "    sample = npl.sample\n",
    "    wll_sample = npl.wll\n",
    "    mmd_loss = npl.mmd_loss\n",
    "    sample_mmd = np.mean(sample, axis=0)\n",
    "    sample_mle = np.mean(X, axis=0)\n",
    "    sample_wll = np.mean(wll_sample, axis=0)\n",
    "    results[0, n_cont] = mean_squared_error(theta_star, sample_mmd)\n",
    "    results[1, n_cont] = mean_squared_error(theta_star, sample_mle)\n",
    "    results[2, n_cont] = mean_squared_error(theta_star, sample_wll)\n",
    "end_time = time.time()\n",
    "print('Time :', end_time-start_time, 'seconds')\n",
    "for n_cont in np.arange(outl):\n",
    "    print('MSE of MMD for', n_cont*5, '% of outliers :', (results[0, n_cont]))\n",
    "    print('MSE of MLE for', n_cont*5, '% of outliers :', (results[1, n_cont]))\n",
    "    print('MSE of WLL for', n_cont*5, '% of outliers :', (results[2, n_cont]))"
   ]
  },
  {
   "cell_type": "markdown",
   "metadata": {},
   "source": [
    "### Plot results"
   ]
  },
  {
   "cell_type": "code",
   "execution_count": null,
   "metadata": {},
   "outputs": [],
   "source": [
    "fig = plt.figure(figsize=(18, 18))\n",
    "\n",
    "plt.plot(np.linspace(0,4*outl,outl), results[0,:], 'r--', label='MMD')\n",
    "plt.plot(np.linspace(0,4*outl,outl), results[1,:], 'b--', label='MLE')\n",
    "plt.plot(np.linspace(0,4*outl,outl), results[2,:], 'g--', label='WLL')\n",
    "#plt.plot(arange(0,0.225,0.025), vec_res[arange(outl)*3+2], 'g--', label='MED')\n",
    "#plt.plot(arange(0,0.30,0.05), vec_res[arange(outl)*4+3], 'p+-', label='VI')\n",
    "leg = plt.legend(loc='best', ncol=1)\n",
    "leg.get_frame().set_alpha(0.5)\n",
    "plt.xlabel('Percentage of outliers',fontsize='x-large')\n",
    "plt.ylabel('MSE',fontsize='x-large')\n",
    "\n",
    "# plt.subplot(1, 2, 2)\n",
    "# plt.plot(arange(0,0.225,0.025), vec_res[arange(outl)*3+0], 'r--', label='MMD')\n",
    "# plt.plot(arange(0,0.225,0.025), vec_res[arange(outl)*3+2], 'g--', label='MED')\n",
    "# #plt.plot(arange(0,0.30,0.05), vec_res[arange(outl)*4+3], 'p+-', label='VI')\n",
    "# leg = plt.legend(loc='best', ncol=1)\n",
    "# leg.get_frame().set_alpha(0.5)\n",
    "# plt.xlabel('Ratio of outliers',fontsize='x-large')\n",
    "# plt.ylabel('Sqrt of MSE',fontsize='x-large')\n",
    "\n",
    "fig.set_size_inches(12, 4)\n",
    "\n",
    "plt.tight_layout()"
   ]
  },
  {
   "cell_type": "code",
   "execution_count": null,
   "metadata": {},
   "outputs": [],
   "source": [
    "plt.plot(range(B), mmd_loss, label='MMD')\n",
    "leg = plt.legend(loc='best', ncol=1)\n",
    "leg.get_frame().set_alpha(0.5)\n",
    "plt.xlabel('Bootstrap iteration',fontsize='x-large')\n",
    "plt.ylabel('MMD^2 loss',fontsize='x-large')"
   ]
  },
  {
   "cell_type": "code",
   "execution_count": 104,
   "metadata": {},
   "outputs": [],
   "source": [
    "#np.savetxt(fname='02_res.txt', X=results)"
   ]
  },
  {
   "cell_type": "code",
   "execution_count": null,
   "metadata": {},
   "outputs": [],
   "source": [
    "# old mmd function inside NPL class\n",
    "#     def MMD(self, data, weights, Nstep=1000 ,gamma=1, eta=0.2):\n",
    "#         \"\"\"Gaussian kernel of parameter gamma=1\n",
    "#         Minibatch size = sample size = n, number of iterations = Nstep = 1000\"\"\"\n",
    "#         \"\"\"MMD minimzer between P^(j) for \\alpha=0 and P_\\theta using PSGD\"\"\"\n",
    "#         theta = 0.0\n",
    "#         t = 0\n",
    "#         gradient = 100\n",
    "#         while t < Nstep and abs(gradient) > 0.0001: \n",
    "#            #print(\"---Performing step\", t, \"of SGD---\")\n",
    "#            #print(\"Minimizing MMD...\")\n",
    "#             sample = np.random.normal(loc=theta,scale=1,size=self.n) \n",
    "#             K1 = self.outerdiff(v1=sample,v2=data)\n",
    "#             K2 = self.outerdiff(v1=sample,v2=sample)\n",
    "#             diff = theta*np.ones(self.n)-sample\n",
    "#             weights_mat = np.tile(weights, (self.n,1))\n",
    "#         #gradient = -2*(mean(diff*(exp(-gamma*multiply(K2,K2))-diag(ones(n))))/(n-1)-mean(diff*exp(-gamma*multiply(K1,K1))))\n",
    "#             gradient = -2*np.mean(diff*(np.exp(-gamma*np.multiply(K2,K2))-np.diag(np.ones(self.n)))/(self.n-1)-\n",
    "#                             sum(diff*np.multiply(weights_mat, np.exp(-gamma*np.multiply(K1,K1)))))\n",
    "#             theta = theta-eta*gradient/np.sqrt(t+1)\n",
    "#             t += 1\n",
    "#         #print(\"stopped after\", t, \"steps\")\n",
    "#         return theta"
   ]
  },
  {
   "cell_type": "markdown",
   "metadata": {},
   "source": [
    "### Test MMD convergence"
   ]
  },
  {
   "cell_type": "code",
   "execution_count": 31,
   "metadata": {},
   "outputs": [],
   "source": [
    "def MMD_(data, weights, m, Nstep=10000 ,gamma=-1, eta=0.1):\n",
    "    \"\"\"Gaussian kernel of parameter gamma=1\n",
    "    Minibatch size = sample size = n, number of iterations = Nstep = 1000\"\"\"\n",
    "    \"\"\"MMD minimzer between P^(j) for \\alpha=0 and P_\\theta using PSGD\"\"\"\n",
    "    n, d = data.shape\n",
    "    #print(d)\n",
    "    theta = np.zeros(d)#MLE(data)*np.ones(d)\n",
    "    thetas = []\n",
    "    grads = []\n",
    "    losses = []\n",
    "    t = 0\n",
    "    gradient = 100\n",
    "    # median heuristic if gamma=-1\n",
    "    if gamma == -1:\n",
    "        gamma = np.sqrt((1/2)*np.median(distance.cdist(data,data,'sqeuclidean')))\n",
    "    kxx = k(data,data,gamma)[0]\n",
    "    while t < Nstep: #and np.linalg.norm(gradient) > 10e-6: \n",
    "        sample = sample_gaussian_outl('MC',m,d,1,theta, n_cont=0)\n",
    "        kyy, k1yy = k(sample,sample,gamma)[0:2]\n",
    "        kxy, k1xy = k(sample,data,gamma)[0:2]    #kyx\n",
    "        grad_g = grad_gen_gaussian(m,theta)\n",
    "        if d == 1:\n",
    "            gradient = np.asmatrix(grad_MMD(d,n,m,grad_g,weights,k1yy,k1xy))\n",
    "        else:\n",
    "            gradient = grad_MMD(d,n,m,grad_g,weights,k1yy,k1xy)\n",
    "        #print(np.shape(gradient))       \n",
    "        theta = theta-eta*gradient\n",
    "            \n",
    "        loss = MMD_approx(n,m,weights,kxx,kxy,kyy)\n",
    "        losses.append(loss)\n",
    "        thetas.append(theta)\n",
    "        t += 1\n",
    "    #print(\"stopped after\", t, \"steps\")\n",
    "    return theta, np.squeeze(np.asarray(thetas)), losses, t"
   ]
  },
  {
   "cell_type": "code",
   "execution_count": 34,
   "metadata": {},
   "outputs": [],
   "source": [
    "n=2**11\n",
    "m=2**9\n",
    "d=1\n",
    "s=1\n",
    "theta_star=2\n",
    "n_cont = 0\n",
    "weights = dirichlet.rvs(np.ones(n), size = 1).flatten()\n",
    "#weights = np.ones(n)\n",
    "X = sample_gaussian_outl('MC',n,d,s,theta_star,n_cont=n_cont)      \n",
    "theta_estimate, thetas, losses, iterations = MMD_(X, weights, m)"
   ]
  },
  {
   "cell_type": "code",
   "execution_count": 35,
   "metadata": {},
   "outputs": [],
   "source": [
    "def mse(max_it,p,thetas,theta_star):\n",
    "    mse_ = np.zeros((max_it-1,p))\n",
    "    for l in range(p):\n",
    "        for j in range(max_it-1):\n",
    "            mse_[j,l] = np.mean(np.asarray((thetas[1:j+2]-theta_star[l]))**2)\n",
    "    return mse_"
   ]
  },
  {
   "cell_type": "code",
   "execution_count": 36,
   "metadata": {},
   "outputs": [
    {
     "data": {
      "text/plain": [
       "<function matplotlib.pyplot.show(*args, **kw)>"
      ]
     },
     "execution_count": 36,
     "metadata": {},
     "output_type": "execute_result"
    },
    {
     "data": {
      "image/png": "[encoded data removed]",
      "text/plain": [
       "<Figure size 432x288 with 1 Axes>"
      ]
     },
     "metadata": {
      "needs_background": "light"
     },
     "output_type": "display_data"
    }
   ],
   "source": [
    "iterations = 10000\n",
    "theta_star = np.array([2])\n",
    "mses = mse(iterations,1,thetas,theta_star)[:,0]\n",
    "plt.plot(range(iterations-1),mses)\n",
    "plt.xlabel('SGD iterations',fontsize='x-large')\n",
    "plt.ylabel('MSE',fontsize='x-large')\n",
    "\n",
    "plt.show"
   ]
  },
  {
   "cell_type": "code",
   "execution_count": 37,
   "metadata": {},
   "outputs": [
    {
     "data": {
      "text/plain": [
       "Text(0, 0.5, 'MMD^2 loss')"
      ]
     },
     "execution_count": 37,
     "metadata": {},
     "output_type": "execute_result"
    },
    {
     "data": {
      "image/png": "[encoded data removed]",
      "text/plain": [
       "<Figure size 432x288 with 1 Axes>"
      ]
     },
     "metadata": {
      "needs_background": "light"
     },
     "output_type": "display_data"
    }
   ],
   "source": [
    "plt.plot(range(iterations), losses)\n",
    "plt.xlabel('SGD iterations', fontsize='x-large')\n",
    "plt.ylabel('MMD^2 loss', fontsize='x-large')"
   ]
  },
  {
   "cell_type": "code",
   "execution_count": 6,
   "metadata": {},
   "outputs": [],
   "source": [
    "def func(a):\n",
    "    c = a**2\n",
    "    d = a**3 \n",
    "    return c, d"
   ]
  },
  {
   "cell_type": "code",
   "execution_count": 7,
   "metadata": {},
   "outputs": [],
   "source": [
    "if __name__ == '__main__':\n",
    "    pool = Pool()              \n",
    "    temp = pool.map(func, range(5)) "
   ]
  },
  {
   "cell_type": "code",
   "execution_count": 8,
   "metadata": {},
   "outputs": [
    {
     "data": {
      "text/plain": [
       "[(0, 0), (1, 1), (4, 8), (9, 27), (16, 64)]"
      ]
     },
     "execution_count": 8,
     "metadata": {},
     "output_type": "execute_result"
    }
   ],
   "source": [
    "temp"
   ]
  },
  {
   "cell_type": "code",
   "execution_count": null,
   "metadata": {},
   "outputs": [],
   "source": []
  }
 ],
 "metadata": {
  "kernelspec": {
   "display_name": "Python 3",
   "language": "python",
   "name": "python3"
  },
  "language_info": {
   "codemirror_mode": {
    "name": "ipython",
    "version": 3
   },
   "file_extension": ".py",
   "mimetype": "text/x-python",
   "name": "python",
   "nbconvert_exporter": "python",
   "pygments_lexer": "ipython3",
   "version": "3.7.4"
  }
 },
 "nbformat": 4,
 "nbformat_minor": 2
}
